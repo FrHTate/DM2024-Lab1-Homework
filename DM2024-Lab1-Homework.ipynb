{
 "cells": [
  {
   "cell_type": "markdown",
   "metadata": {},
   "source": [
    "### Student Information\n",
    "Name: 黃星翰\n",
    "\n",
    "Student ID: 112062627\n",
    "\n",
    "GitHub ID: FrHTaTe"
   ]
  },
  {
   "cell_type": "markdown",
   "metadata": {},
   "source": [
    "---"
   ]
  },
  {
   "cell_type": "markdown",
   "metadata": {},
   "source": [
    "### Instructions"
   ]
  },
  {
   "cell_type": "markdown",
   "metadata": {},
   "source": [
    "1. First: do the **take home** exercises in the [DM2024-Lab1-Master](https://github.com/didiersalazar/DM2024-Lab1-Master.git). You may need to copy some cells from the Lab notebook to this notebook. __This part is worth 20% of your grade.__\n",
    "\n",
    "\n",
    "2. Second: follow the same process from the [DM2024-Lab1-Master](https://github.com/didiersalazar/DM2024-Lab1-Master.git) on **the new dataset**. You don't need to explain all details as we did (some **minimal comments** explaining your code are useful though).  __This part is worth 30% of your grade.__\n",
    "    - Download the [the new dataset](https://huggingface.co/datasets/Senem/Nostalgic_Sentiment_Analysis_of_YouTube_Comments_Data). The dataset contains a `sentiment` and `comment` columns, with the sentiment labels being: 'nostalgia' and 'not nostalgia'. Read the specificiations of the dataset for background details. \n",
    "    - You are allowed to use and modify the `helper` functions in the folder of the first lab session (notice they may need modification) or create your own.\n",
    "\n",
    "\n",
    "3. Third: please attempt the following tasks on **the new dataset**. __This part is worth 30% of your grade.__\n",
    "    - Generate meaningful **new data visualizations**. Refer to online resources and the Data Mining textbook for inspiration and ideas. \n",
    "    - Generate **TF-IDF features** from the tokens of each text. This will generating a document matrix, however, the weights will be computed differently (using the TF-IDF value of each word per document as opposed to the word frequency). Refer to this Scikit-learn [guide](http://scikit-learn.org/stable/modules/generated/sklearn.feature_extraction.text.TfidfVectorizer.html) .\n",
    "    - Implement a simple **Naive Bayes classifier** that automatically classifies the records into their categories. Use both the TF-IDF features and word frequency features to build two seperate classifiers. Note that for the TF-IDF features you might need to use other type of NB classifier different than the one in the Master Notebook. Comment on the differences.  Refer to this [article](https://hub.packtpub.com/implementing-3-naive-bayes-classifiers-in-scikit-learn/).\n",
    "\n",
    "\n",
    "4. Fourth: In the lab, we applied each step really quickly just to illustrate how to work with your dataset. There are somethings that are not ideal or the most efficient/meaningful. Each dataset can be handled differently as well. What are those inefficent parts you noticed? How can you improve the Data preprocessing for these specific datasets? __This part is worth 10% of your grade.__\n",
    "\n",
    "\n",
    "5. Fifth: It's hard for us to follow if your code is messy, so please **tidy up your notebook** and **add minimal comments where needed**. __This part is worth 10% of your grade.__\n",
    "\n",
    "\n",
    "You can submit your homework following these guidelines: [Git Intro & How to hand your homework](https://github.com/didiersalazar/DM2024-Lab1-Master/blob/main/Git%20Intro%20%26%20How%20to%20hand%20your%20homework.ipynb). Make sure to commit and save your changes to your repository __BEFORE the deadline (October 27th 11:59 pm, Sunday)__. "
   ]
  },
  {
   "cell_type": "code",
   "execution_count": 167,
   "metadata": {},
   "outputs": [],
   "source": [
    "### Begin Assignment Here\n",
    "\n",
    "# Load all needed libraries in this homework\n",
    "import numpy as np\n",
    "import pandas as pd\n",
    "from sklearn.feature_extraction.text import CountVectorizer, TfidfVectorizer\n",
    "from sklearn.manifold import TSNE\n",
    "from sklearn import preprocessing\n",
    "import nltk\n",
    "import math\n",
    "\n",
    "import matplotlib.pyplot as plt\n",
    "import seaborn as sns\n",
    "import plotly.express as px\n",
    "\n",
    "from PAMI.extras.DF2DB import DenseFormatDF as db\n",
    "from PAMI.extras.dbStats import TransactionalDatabase as tds\n",
    "from PAMI.frequentPattern.basic import FPGrowth as alg\n",
    "\n",
    "from sklearn.model_selection import train_test_split\n",
    "from sklearn.naive_bayes import MultinomialNB, GaussianNB, BernoulliNB\n",
    "from sklearn.metrics import classification_report, accuracy_score\n",
    "\n",
    "# Set the style I'm going to use for plotting \n",
    "sns.set_style(\"dark\")\n",
    "sns.set_palette(\"pastel\")"
   ]
  },
  {
   "cell_type": "markdown",
   "metadata": {},
   "source": [
    "# 1. Data Preparatopn"
   ]
  },
  {
   "cell_type": "code",
   "execution_count": 168,
   "metadata": {},
   "outputs": [
    {
     "data": {
      "text/html": [
       "<div>\n",
       "<style scoped>\n",
       "    .dataframe tbody tr th:only-of-type {\n",
       "        vertical-align: middle;\n",
       "    }\n",
       "\n",
       "    .dataframe tbody tr th {\n",
       "        vertical-align: top;\n",
       "    }\n",
       "\n",
       "    .dataframe thead th {\n",
       "        text-align: right;\n",
       "    }\n",
       "</style>\n",
       "<table border=\"1\" class=\"dataframe\">\n",
       "  <thead>\n",
       "    <tr style=\"text-align: right;\">\n",
       "      <th></th>\n",
       "      <th>sentiment</th>\n",
       "      <th>comment</th>\n",
       "    </tr>\n",
       "  </thead>\n",
       "  <tbody>\n",
       "    <tr>\n",
       "      <th>0</th>\n",
       "      <td>not nostalgia</td>\n",
       "      <td>He was a singer with a golden voice that I lov...</td>\n",
       "    </tr>\n",
       "    <tr>\n",
       "      <th>1</th>\n",
       "      <td>nostalgia</td>\n",
       "      <td>The mist beautiful voice ever I listened to hi...</td>\n",
       "    </tr>\n",
       "    <tr>\n",
       "      <th>2</th>\n",
       "      <td>nostalgia</td>\n",
       "      <td>I have most of Mr. Reeves songs.  Always love ...</td>\n",
       "    </tr>\n",
       "    <tr>\n",
       "      <th>3</th>\n",
       "      <td>not nostalgia</td>\n",
       "      <td>30 day leave from 1st tour in Viet Nam to conv...</td>\n",
       "    </tr>\n",
       "    <tr>\n",
       "      <th>4</th>\n",
       "      <td>nostalgia</td>\n",
       "      <td>listening to his songs reminds me of my mum wh...</td>\n",
       "    </tr>\n",
       "    <tr>\n",
       "      <th>...</th>\n",
       "      <td>...</td>\n",
       "      <td>...</td>\n",
       "    </tr>\n",
       "    <tr>\n",
       "      <th>1495</th>\n",
       "      <td>not nostalgia</td>\n",
       "      <td>i don't know!..but the opening of the video,.....</td>\n",
       "    </tr>\n",
       "    <tr>\n",
       "      <th>1496</th>\n",
       "      <td>not nostalgia</td>\n",
       "      <td>it's sad this is such a beautiful song when yo...</td>\n",
       "    </tr>\n",
       "    <tr>\n",
       "      <th>1497</th>\n",
       "      <td>not nostalgia</td>\n",
       "      <td>Dear Friend, I think age and time is not that ...</td>\n",
       "    </tr>\n",
       "    <tr>\n",
       "      <th>1498</th>\n",
       "      <td>nostalgia</td>\n",
       "      <td>I was born in 1954 and started to be aware of ...</td>\n",
       "    </tr>\n",
       "    <tr>\n",
       "      <th>1499</th>\n",
       "      <td>nostalgia</td>\n",
       "      <td>This is the first CD I bought after my marriag...</td>\n",
       "    </tr>\n",
       "  </tbody>\n",
       "</table>\n",
       "<p>1500 rows × 2 columns</p>\n",
       "</div>"
      ],
      "text/plain": [
       "          sentiment                                            comment\n",
       "0     not nostalgia  He was a singer with a golden voice that I lov...\n",
       "1         nostalgia  The mist beautiful voice ever I listened to hi...\n",
       "2         nostalgia  I have most of Mr. Reeves songs.  Always love ...\n",
       "3     not nostalgia  30 day leave from 1st tour in Viet Nam to conv...\n",
       "4         nostalgia  listening to his songs reminds me of my mum wh...\n",
       "...             ...                                                ...\n",
       "1495  not nostalgia  i don't know!..but the opening of the video,.....\n",
       "1496  not nostalgia  it's sad this is such a beautiful song when yo...\n",
       "1497  not nostalgia  Dear Friend, I think age and time is not that ...\n",
       "1498      nostalgia  I was born in 1954 and started to be aware of ...\n",
       "1499      nostalgia  This is the first CD I bought after my marriag...\n",
       "\n",
       "[1500 rows x 2 columns]"
      ]
     },
     "metadata": {},
     "output_type": "display_data"
    }
   ],
   "source": [
    "# Import the assigned dataset and display it\n",
    "dataset = pd.read_csv(\"Nostalgic_Sentiment_Analysis_of_YouTube_Comments_Data.csv\")\n",
    "\n",
    "display(dataset)"
   ]
  },
  {
   "cell_type": "code",
   "execution_count": 169,
   "metadata": {},
   "outputs": [
    {
     "name": "stdout",
     "output_type": "stream",
     "text": [
      "['nostalgia', 'not nostalgia']\n"
     ]
    }
   ],
   "source": [
    "# Check all the categories\n",
    "categories = list(set(dataset[\"sentiment\"]))\n",
    "print(categories)"
   ]
  },
  {
   "cell_type": "markdown",
   "metadata": {},
   "source": [
    "# 2. Preprocess the data"
   ]
  },
  {
   "cell_type": "markdown",
   "metadata": {},
   "source": [
    "## 2.1 Data Cleaning\n",
    "1. Check if there is missing value, then deal with it.    \n",
    "2. Check if there is duplicated record, then delete it.\n",
    "3. Show the statistics of the dataset after cleaning."
   ]
  },
  {
   "cell_type": "code",
   "execution_count": 170,
   "metadata": {},
   "outputs": [
    {
     "name": "stdout",
     "output_type": "stream",
     "text": [
      "The amount of missing value is: \n",
      "sentiment    0\n",
      "comment      0\n",
      "dtype: int64\n",
      "\n",
      "The amount of duplicated record is: \n",
      "1\n",
      "\n",
      "The amount of duplicated comment is: \n",
      "1\n"
     ]
    }
   ],
   "source": [
    "# Check if there are any missing values and duplicated record in each fields\n",
    "print(f\"The amount of missing value is: \\n{dataset.isnull().sum()}\\n\")\n",
    "print(f\"The amount of duplicated record is: \\n{dataset.duplicated().sum()}\\n\")\n",
    "print(f\"The amount of duplicated comment is: \\n{dataset.duplicated('comment').sum()}\")"
   ]
  },
  {
   "cell_type": "code",
   "execution_count": 171,
   "metadata": {},
   "outputs": [
    {
     "name": "stdout",
     "output_type": "stream",
     "text": [
      "The 62th record is duplicated!\n",
      "The 78th record is duplicated!\n",
      "\n",
      "The duplicated record is:\n"
     ]
    },
    {
     "data": {
      "text/html": [
       "<div>\n",
       "<style scoped>\n",
       "    .dataframe tbody tr th:only-of-type {\n",
       "        vertical-align: middle;\n",
       "    }\n",
       "\n",
       "    .dataframe tbody tr th {\n",
       "        vertical-align: top;\n",
       "    }\n",
       "\n",
       "    .dataframe thead th {\n",
       "        text-align: right;\n",
       "    }\n",
       "</style>\n",
       "<table border=\"1\" class=\"dataframe\">\n",
       "  <thead>\n",
       "    <tr style=\"text-align: right;\">\n",
       "      <th></th>\n",
       "      <th>sentiment</th>\n",
       "      <th>comment</th>\n",
       "    </tr>\n",
       "  </thead>\n",
       "  <tbody>\n",
       "    <tr>\n",
       "      <th>62</th>\n",
       "      <td>not nostalgia</td>\n",
       "      <td>never heard this song before... WOW What an am...</td>\n",
       "    </tr>\n",
       "    <tr>\n",
       "      <th>78</th>\n",
       "      <td>not nostalgia</td>\n",
       "      <td>never heard this song before... WOW What an am...</td>\n",
       "    </tr>\n",
       "  </tbody>\n",
       "</table>\n",
       "</div>"
      ],
      "text/plain": [
       "        sentiment                                            comment\n",
       "62  not nostalgia  never heard this song before... WOW What an am...\n",
       "78  not nostalgia  never heard this song before... WOW What an am..."
      ]
     },
     "metadata": {},
     "output_type": "display_data"
    },
    {
     "name": "stdout",
     "output_type": "stream",
     "text": [
      "After dropping the duplicated records, the shape of dataset is:\n"
     ]
    },
    {
     "data": {
      "text/html": [
       "<div>\n",
       "<style scoped>\n",
       "    .dataframe tbody tr th:only-of-type {\n",
       "        vertical-align: middle;\n",
       "    }\n",
       "\n",
       "    .dataframe tbody tr th {\n",
       "        vertical-align: top;\n",
       "    }\n",
       "\n",
       "    .dataframe thead th {\n",
       "        text-align: right;\n",
       "    }\n",
       "</style>\n",
       "<table border=\"1\" class=\"dataframe\">\n",
       "  <thead>\n",
       "    <tr style=\"text-align: right;\">\n",
       "      <th></th>\n",
       "      <th>sentiment</th>\n",
       "      <th>comment</th>\n",
       "    </tr>\n",
       "  </thead>\n",
       "  <tbody>\n",
       "    <tr>\n",
       "      <th>0</th>\n",
       "      <td>not nostalgia</td>\n",
       "      <td>He was a singer with a golden voice that I lov...</td>\n",
       "    </tr>\n",
       "    <tr>\n",
       "      <th>1</th>\n",
       "      <td>nostalgia</td>\n",
       "      <td>The mist beautiful voice ever I listened to hi...</td>\n",
       "    </tr>\n",
       "    <tr>\n",
       "      <th>2</th>\n",
       "      <td>nostalgia</td>\n",
       "      <td>I have most of Mr. Reeves songs.  Always love ...</td>\n",
       "    </tr>\n",
       "    <tr>\n",
       "      <th>3</th>\n",
       "      <td>not nostalgia</td>\n",
       "      <td>30 day leave from 1st tour in Viet Nam to conv...</td>\n",
       "    </tr>\n",
       "    <tr>\n",
       "      <th>4</th>\n",
       "      <td>nostalgia</td>\n",
       "      <td>listening to his songs reminds me of my mum wh...</td>\n",
       "    </tr>\n",
       "    <tr>\n",
       "      <th>...</th>\n",
       "      <td>...</td>\n",
       "      <td>...</td>\n",
       "    </tr>\n",
       "    <tr>\n",
       "      <th>1494</th>\n",
       "      <td>not nostalgia</td>\n",
       "      <td>i don't know!..but the opening of the video,.....</td>\n",
       "    </tr>\n",
       "    <tr>\n",
       "      <th>1495</th>\n",
       "      <td>not nostalgia</td>\n",
       "      <td>it's sad this is such a beautiful song when yo...</td>\n",
       "    </tr>\n",
       "    <tr>\n",
       "      <th>1496</th>\n",
       "      <td>not nostalgia</td>\n",
       "      <td>Dear Friend, I think age and time is not that ...</td>\n",
       "    </tr>\n",
       "    <tr>\n",
       "      <th>1497</th>\n",
       "      <td>nostalgia</td>\n",
       "      <td>I was born in 1954 and started to be aware of ...</td>\n",
       "    </tr>\n",
       "    <tr>\n",
       "      <th>1498</th>\n",
       "      <td>nostalgia</td>\n",
       "      <td>This is the first CD I bought after my marriag...</td>\n",
       "    </tr>\n",
       "  </tbody>\n",
       "</table>\n",
       "<p>1499 rows × 2 columns</p>\n",
       "</div>"
      ],
      "text/plain": [
       "          sentiment                                            comment\n",
       "0     not nostalgia  He was a singer with a golden voice that I lov...\n",
       "1         nostalgia  The mist beautiful voice ever I listened to hi...\n",
       "2         nostalgia  I have most of Mr. Reeves songs.  Always love ...\n",
       "3     not nostalgia  30 day leave from 1st tour in Viet Nam to conv...\n",
       "4         nostalgia  listening to his songs reminds me of my mum wh...\n",
       "...             ...                                                ...\n",
       "1494  not nostalgia  i don't know!..but the opening of the video,.....\n",
       "1495  not nostalgia  it's sad this is such a beautiful song when yo...\n",
       "1496  not nostalgia  Dear Friend, I think age and time is not that ...\n",
       "1497      nostalgia  I was born in 1954 and started to be aware of ...\n",
       "1498      nostalgia  This is the first CD I bought after my marriag...\n",
       "\n",
       "[1499 rows x 2 columns]"
      ]
     },
     "metadata": {},
     "output_type": "display_data"
    }
   ],
   "source": [
    "# We can see that there are duplicated records in the dataset, so I'm going to drop it\n",
    "for index, duplicate in enumerate(dataset.duplicated(keep=False)):\n",
    "    if duplicate == True: print(f\"The {index}th record is duplicated!\")\n",
    "\n",
    "print(f\"\\nThe duplicated record is:\")\n",
    "display(dataset[dataset.duplicated(keep=False)])\n",
    "\n",
    "# drop the duplicated records\n",
    "dataset.drop_duplicates(inplace=True, ignore_index=True)\n",
    "\n",
    "# Show the shape of the dataset after dropping the duplicated records\n",
    "print(\"After dropping the duplicated records, the shape of dataset is:\")\n",
    "display(dataset)\n"
   ]
  },
  {
   "cell_type": "code",
   "execution_count": 172,
   "metadata": {},
   "outputs": [
    {
     "name": "stdout",
     "output_type": "stream",
     "text": [
      "The amounts of each category are:\n",
      "sentiment\n",
      "nostalgia        750\n",
      "not nostalgia    749\n",
      "Name: count, dtype: int64\n"
     ]
    },
    {
     "data": {
      "image/png": "[encoded data removed]",
      "text/plain": [
       "<Figure size 600x600 with 1 Axes>"
      ]
     },
     "metadata": {},
     "output_type": "display_data"
    }
   ],
   "source": [
    "# Show the statistics of the dataset after cleaning\n",
    "print(\"The amounts of each category are:\")\n",
    "print(dataset[\"sentiment\"].value_counts())\n",
    "\n",
    "# Plot the distribution of the categories by pie chart\n",
    "plt.figure(figsize=(6, 6))\n",
    "\n",
    "'''\n",
    "'autopct' will get the percentage of each category,\n",
    "and I want to display the number of each category in the pie chart,\n",
    "so I use the lambda function to calculate the number of each category.\n",
    "'''\n",
    "plt.pie(\n",
    "    dataset[\"sentiment\"].value_counts(),\n",
    "    autopct=lambda p: f\"{int(p * sum(dataset['sentiment'].value_counts()) / 100)} \\n\" \\\n",
    "                      f\"({p:.2f}%)\",\n",
    "    textprops={'size':14},\n",
    "    startangle=90, # set the start angle of the pie chart (then it will plot counterclockwisly)\n",
    "    radius=0.9\n",
    ")\n",
    "\n",
    "plt.legend(\n",
    "    dataset[\"sentiment\"].value_counts().index, \n",
    "    title=\"Category\",\n",
    "    loc=\"upper right\",\n",
    ")\n",
    "\n",
    "plt.title(\"Category Distribution\", fontsize=14)\n",
    "\n",
    "plt.show()\n",
    " "
   ]
  },
  {
   "cell_type": "markdown",
   "metadata": {},
   "source": [
    "## 2.2 Feature Creation\n",
    "Since only using comments to do analysis is not easy to observe the feature of the dataset, so we can tokenize the comments to have more insights of the data."
   ]
  },
  {
   "cell_type": "code",
   "execution_count": 173,
   "metadata": {},
   "outputs": [
    {
     "name": "stdout",
     "output_type": "stream",
     "text": [
      "0       [He, was, a, singer, with, a, golden, voice, t...\n",
      "1       [The, mist, beautiful, voice, ever, I, listene...\n",
      "2       [I, have, most, of, Mr., Reeves, songs, ., Alw...\n",
      "3       [30, day, leave, from, 1st, tour, in, Viet, Na...\n",
      "4       [listening, to, his, songs, reminds, me, of, m...\n",
      "                              ...                        \n",
      "1494    [i, do, n't, know, !, .., but, the, opening, o...\n",
      "1495    [it, 's, sad, this, is, such, a, beautiful, so...\n",
      "1496    [Dear, Friend, ,, I, think, age, and, time, is...\n",
      "1497    [I, was, born, in, 1954, and, started, to, be,...\n",
      "1498    [This, is, the, first, CD, I, bought, after, m...\n",
      "Name: token, Length: 1499, dtype: object\n"
     ]
    }
   ],
   "source": [
    "# I copy the 'tokenize_text' function from 'helpers.data_mining_helpers.py' in Master file to tokenize the text.\n",
    "def tokenize_text(text, remove_stopwords=False):\n",
    "    \"\"\"\n",
    "    Tokenize text using the nltk library\n",
    "    \"\"\"\n",
    "    tokens = []\n",
    "    for d in nltk.sent_tokenize(text, language='english'):\n",
    "        for word in nltk.word_tokenize(d, language='english'):\n",
    "            # filters here\n",
    "            tokens.append(word)\n",
    "    return tokens\n",
    "\n",
    "dataset['token'] = dataset['comment'].apply(nltk.word_tokenize)\n",
    "\n",
    "print(dataset['token'])"
   ]
  },
  {
   "cell_type": "markdown",
   "metadata": {},
   "source": [
    "## 2.3 Feature Subset Selection\n",
    "After tokenizing the comments, we can calculate the frequency for each term that the times it occurs in each document, so we can do analysis on it.  \n",
    "But both the number of documents and number of terms is too huge to visulize, so we can do feature subset selection to obeserve part of the matrix. "
   ]
  },
  {
   "cell_type": "code",
   "execution_count": 174,
   "metadata": {},
   "outputs": [
    {
     "data": {
      "image/png": "[encoded data removed]",
      "text/plain": [
       "<Figure size 900x700 with 2 Axes>"
      ]
     },
     "metadata": {},
     "output_type": "display_data"
    }
   ],
   "source": [
    "# Generate the document-term matrix for the dataset\n",
    "dtm_vectorizer = CountVectorizer()\n",
    "dataset_dtm = dtm_vectorizer.fit_transform(dataset['comment'])\n",
    "\n",
    "# Visulize the first 100*100 elements of dataset_dtm\n",
    "plt.figure(figsize=(9, 7))\n",
    "sns.heatmap(\n",
    "    dataset_dtm[:100, :100].toarray(),\n",
    "    cmap=\"coolwarm\",\n",
    "    vmin=0, \n",
    "    vmax=max(dataset_dtm[:100, :100].toarray().flatten()), \n",
    "    xticklabels = False, \n",
    "    yticklabels = False\n",
    ")\n",
    "plt.show()"
   ]
  },
  {
   "cell_type": "markdown",
   "metadata": {},
   "source": [
    "## 2.4 Aggregation\n",
    "Observe the map above, we can see that the sparsity of DTM, so we might need to see the dataset in another point of view. One intuitive way is to calculate the frequency of each terms that it occurs in the whole corpus, that is, we can aggregate the whole objects to see the amount of each term frequency."
   ]
  },
  {
   "cell_type": "code",
   "execution_count": 175,
   "metadata": {},
   "outputs": [
    {
     "data": {
      "application/vnd.plotly.v1+json": {
       "config": {
        "plotlyServerURL": "https://plot.ly"
       },
       "data": [
        {
         "alignmentgroup": "True",
         "hovertemplate": "Term=%{x}<br>Frequency=%{y}<extra></extra>",
         "legendgroup": "",
         "marker": {
          "color": "#636efa",
          "pattern": {
           "shape": ""
          }
         },
         "name": "",
         "offsetgroup": "",
         "orientation": "v",
         "showlegend": false,
         "textposition": "auto",
         "type": "bar",
         "x": [
          "the",
          "this",
          "to",
          "and",
          "my",
          "song",
          "of",
          "in",
          "it",
          "was",
          "me",
          "is",
          "you",
          "that",
          "so",
          "love",
          "when",
          "back",
          "for",
          "music",
          "memories",
          "on",
          "with",
          "time",
          "great",
          "but",
          "have",
          "years",
          "all",
          "he",
          "beautiful",
          "as",
          "like",
          "one",
          "songs",
          "old",
          "just",
          "her",
          "we",
          "she",
          "at",
          "be",
          "from",
          "good",
          "not",
          "now",
          "voice",
          "can",
          "what",
          "remember",
          "always",
          "his",
          "still",
          "they",
          "much",
          "brings",
          "will",
          "are",
          "never",
          "days",
          "had",
          "many",
          "very",
          "am",
          "up",
          "best",
          "listening",
          "him",
          "thank",
          "first",
          "these",
          "really",
          "miss",
          "who",
          "how",
          "listen",
          "out",
          "about",
          "hear",
          "childhood",
          "were",
          "heard",
          "no",
          "ever",
          "loved",
          "reminds",
          "there",
          "those",
          "would",
          "by",
          "only",
          "know",
          "sing",
          "an",
          "more",
          "has",
          "every",
          "if",
          "dad",
          "life",
          "could",
          "young",
          "some",
          "then",
          "today",
          "such",
          "used",
          "day",
          "don",
          "singing",
          "think",
          "thanks",
          "times",
          "played",
          "again",
          "been",
          "school",
          "do",
          "singer",
          "or",
          "get",
          "too",
          "wish",
          "wonderful",
          "favorite",
          "makes",
          "most",
          "sad",
          "them",
          "world",
          "over",
          "did",
          "go",
          "here",
          "man",
          "after",
          "came",
          "got",
          "happy",
          "heart",
          "our",
          "people",
          "play",
          "ago",
          "little",
          "radio",
          "way",
          "your",
          "come",
          "well",
          "feel",
          "nice",
          "real",
          "their",
          "because",
          "make",
          "mom",
          "version",
          "video",
          "god",
          "passed",
          "than",
          "away",
          "its",
          "long",
          "see",
          "better",
          "mum",
          "year",
          "age",
          "country",
          "lyrics",
          "made",
          "us",
          "why",
          "wow",
          "classic",
          "elvis",
          "jim",
          "takes",
          "amazing",
          "being",
          "girl",
          "lovely",
          "where",
          "forever",
          "live",
          "fantastic",
          "lot",
          "name",
          "say",
          "before",
          "even",
          "playing",
          "60",
          "dance",
          "early",
          "kid",
          "oh",
          "child",
          "reeves",
          "sweet",
          "another",
          "any",
          "around",
          "cry",
          "memory",
          "since",
          "tears",
          "want",
          "2019",
          "bring",
          "high",
          "into",
          "parents",
          "ve",
          "70",
          "didn",
          "eyes",
          "few",
          "gone",
          "listened",
          "sang",
          "father",
          "feeling",
          "kind",
          "record",
          "singers",
          "true",
          "tune",
          "anymore",
          "anyone",
          "died",
          "era",
          "greatest",
          "hit",
          "right",
          "which",
          "words",
          "friend",
          "last",
          "later",
          "mother",
          "new",
          "other",
          "past",
          "same",
          "sure",
          "yes",
          "50",
          "60s",
          "born",
          "boy",
          "brought",
          "find",
          "look",
          "nothing",
          "should",
          "someone",
          "something",
          "sound",
          "take",
          "youtube",
          "80",
          "brilliant",
          "down",
          "going",
          "grew",
          "hearing",
          "late",
          "lost",
          "nostalgic",
          "once",
          "romantic",
          "teenager",
          "through",
          "yesterday",
          "also",
          "awesome",
          "called",
          "dancing",
          "home",
          "pop",
          "rip",
          "rock",
          "sounds",
          "thought",
          "70s",
          "almost",
          "band",
          "during",
          "family",
          "lady",
          "left",
          "lol",
          "may",
          "mind",
          "missed",
          "original",
          "please"
         ],
         "xaxis": "x",
         "y": [
          1351,
          997,
          937,
          923,
          765,
          748,
          722,
          612,
          586,
          584,
          388,
          375,
          367,
          360,
          315,
          309,
          299,
          290,
          278,
          267,
          244,
          240,
          222,
          213,
          209,
          195,
          186,
          184,
          181,
          178,
          172,
          171,
          169,
          167,
          160,
          159,
          154,
          153,
          143,
          142,
          139,
          139,
          139,
          138,
          137,
          137,
          137,
          136,
          136,
          132,
          127,
          123,
          118,
          117,
          115,
          108,
          105,
          103,
          102,
          100,
          100,
          100,
          95,
          94,
          94,
          93,
          92,
          89,
          89,
          88,
          88,
          87,
          86,
          86,
          85,
          85,
          85,
          82,
          82,
          81,
          81,
          79,
          79,
          78,
          76,
          76,
          76,
          76,
          76,
          75,
          74,
          73,
          73,
          72,
          72,
          71,
          70,
          68,
          67,
          67,
          66,
          65,
          64,
          64,
          62,
          61,
          61,
          60,
          60,
          60,
          60,
          59,
          59,
          56,
          55,
          55,
          55,
          54,
          54,
          53,
          52,
          52,
          52,
          51,
          50,
          50,
          50,
          50,
          50,
          50,
          49,
          48,
          48,
          48,
          48,
          47,
          47,
          47,
          47,
          47,
          47,
          47,
          47,
          46,
          46,
          45,
          45,
          45,
          44,
          42,
          40,
          40,
          40,
          40,
          39,
          39,
          39,
          39,
          39,
          38,
          38,
          38,
          37,
          37,
          37,
          37,
          36,
          36,
          36,
          35,
          35,
          35,
          35,
          35,
          35,
          35,
          34,
          34,
          34,
          34,
          33,
          33,
          33,
          33,
          32,
          31,
          31,
          30,
          30,
          30,
          30,
          29,
          29,
          29,
          28,
          28,
          28,
          28,
          28,
          27,
          27,
          27,
          26,
          26,
          26,
          26,
          26,
          26,
          26,
          26,
          25,
          25,
          25,
          25,
          25,
          25,
          24,
          24,
          24,
          24,
          24,
          24,
          24,
          23,
          23,
          23,
          23,
          23,
          23,
          23,
          22,
          22,
          22,
          22,
          22,
          22,
          22,
          22,
          22,
          21,
          21,
          21,
          21,
          21,
          21,
          21,
          21,
          21,
          21,
          20,
          20,
          20,
          20,
          20,
          20,
          20,
          20,
          20,
          20,
          20,
          20,
          20,
          20,
          19,
          19,
          19,
          19,
          19,
          19,
          19,
          19,
          19,
          19,
          19,
          19,
          19,
          19,
          18,
          18,
          18,
          18,
          18,
          18,
          18,
          18,
          18,
          18,
          17,
          17,
          17,
          17,
          17,
          17,
          17,
          17,
          17,
          17,
          17,
          17,
          17
         ],
         "yaxis": "y"
        }
       ],
       "layout": {
        "barmode": "relative",
        "legend": {
         "tracegroupgap": 0
        },
        "margin": {
         "t": 60
        },
        "template": {
         "data": {
          "bar": [
           {
            "error_x": {
             "color": "#2a3f5f"
            },
            "error_y": {
             "color": "#2a3f5f"
            },
            "marker": {
             "line": {
              "color": "#E5ECF6",
              "width": 0.5
             },
             "pattern": {
              "fillmode": "overlay",
              "size": 10,
              "solidity": 0.2
             }
            },
            "type": "bar"
           }
          ],
          "barpolar": [
           {
            "marker": {
             "line": {
              "color": "#E5ECF6",
              "width": 0.5
             },
             "pattern": {
              "fillmode": "overlay",
              "size": 10,
              "solidity": 0.2
             }
            },
            "type": "barpolar"
           }
          ],
          "carpet": [
           {
            "aaxis": {
             "endlinecolor": "#2a3f5f",
             "gridcolor": "white",
             "linecolor": "white",
             "minorgridcolor": "white",
             "startlinecolor": "#2a3f5f"
            },
            "baxis": {
             "endlinecolor": "#2a3f5f",
             "gridcolor": "white",
             "linecolor": "white",
             "minorgridcolor": "white",
             "startlinecolor": "#2a3f5f"
            },
            "type": "carpet"
           }
          ],
          "choropleth": [
           {
            "colorbar": {
             "outlinewidth": 0,
             "ticks": ""
            },
            "type": "choropleth"
           }
          ],
          "contour": [
           {
            "colorbar": {
             "outlinewidth": 0,
             "ticks": ""
            },
            "colorscale": [
             [
              0,
              "#0d0887"
             ],
             [
              0.1111111111111111,
              "#46039f"
             ],
             [
              0.2222222222222222,
              "#7201a8"
             ],
             [
              0.3333333333333333,
              "#9c179e"
             ],
             [
              0.4444444444444444,
              "#bd3786"
             ],
             [
              0.5555555555555556,
              "#d8576b"
             ],
             [
              0.6666666666666666,
              "#ed7953"
             ],
             [
              0.7777777777777778,
              "#fb9f3a"
             ],
             [
              0.8888888888888888,
              "#fdca26"
             ],
             [
              1,
              "#f0f921"
             ]
            ],
            "type": "contour"
           }
          ],
          "contourcarpet": [
           {
            "colorbar": {
             "outlinewidth": 0,
             "ticks": ""
            },
            "type": "contourcarpet"
           }
          ],
          "heatmap": [
           {
            "colorbar": {
             "outlinewidth": 0,
             "ticks": ""
            },
            "colorscale": [
             [
              0,
              "#0d0887"
             ],
             [
              0.1111111111111111,
              "#46039f"
             ],
             [
              0.2222222222222222,
              "#7201a8"
             ],
             [
              0.3333333333333333,
              "#9c179e"
             ],
             [
              0.4444444444444444,
              "#bd3786"
             ],
             [
              0.5555555555555556,
              "#d8576b"
             ],
             [
              0.6666666666666666,
              "#ed7953"
             ],
             [
              0.7777777777777778,
              "#fb9f3a"
             ],
             [
              0.8888888888888888,
              "#fdca26"
             ],
             [
              1,
              "#f0f921"
             ]
            ],
            "type": "heatmap"
           }
          ],
          "heatmapgl": [
           {
            "colorbar": {
             "outlinewidth": 0,
             "ticks": ""
            },
            "colorscale": [
             [
              0,
              "#0d0887"
             ],
             [
              0.1111111111111111,
              "#46039f"
             ],
             [
              0.2222222222222222,
              "#7201a8"
             ],
             [
              0.3333333333333333,
              "#9c179e"
             ],
             [
              0.4444444444444444,
              "#bd3786"
             ],
             [
              0.5555555555555556,
              "#d8576b"
             ],
             [
              0.6666666666666666,
              "#ed7953"
             ],
             [
              0.7777777777777778,
              "#fb9f3a"
             ],
             [
              0.8888888888888888,
              "#fdca26"
             ],
             [
              1,
              "#f0f921"
             ]
            ],
            "type": "heatmapgl"
           }
          ],
          "histogram": [
           {
            "marker": {
             "pattern": {
              "fillmode": "overlay",
              "size": 10,
              "solidity": 0.2
             }
            },
            "type": "histogram"
           }
          ],
          "histogram2d": [
           {
            "colorbar": {
             "outlinewidth": 0,
             "ticks": ""
            },
            "colorscale": [
             [
              0,
              "#0d0887"
             ],
             [
              0.1111111111111111,
              "#46039f"
             ],
             [
              0.2222222222222222,
              "#7201a8"
             ],
             [
              0.3333333333333333,
              "#9c179e"
             ],
             [
              0.4444444444444444,
              "#bd3786"
             ],
             [
              0.5555555555555556,
              "#d8576b"
             ],
             [
              0.6666666666666666,
              "#ed7953"
             ],
             [
              0.7777777777777778,
              "#fb9f3a"
             ],
             [
              0.8888888888888888,
              "#fdca26"
             ],
             [
              1,
              "#f0f921"
             ]
            ],
            "type": "histogram2d"
           }
          ],
          "histogram2dcontour": [
           {
            "colorbar": {
             "outlinewidth": 0,
             "ticks": ""
            },
            "colorscale": [
             [
              0,
              "#0d0887"
             ],
             [
              0.1111111111111111,
              "#46039f"
             ],
             [
              0.2222222222222222,
              "#7201a8"
             ],
             [
              0.3333333333333333,
              "#9c179e"
             ],
             [
              0.4444444444444444,
              "#bd3786"
             ],
             [
              0.5555555555555556,
              "#d8576b"
             ],
             [
              0.6666666666666666,
              "#ed7953"
             ],
             [
              0.7777777777777778,
              "#fb9f3a"
             ],
             [
              0.8888888888888888,
              "#fdca26"
             ],
             [
              1,
              "#f0f921"
             ]
            ],
            "type": "histogram2dcontour"
           }
          ],
          "mesh3d": [
           {
            "colorbar": {
             "outlinewidth": 0,
             "ticks": ""
            },
            "type": "mesh3d"
           }
          ],
          "parcoords": [
           {
            "line": {
             "colorbar": {
              "outlinewidth": 0,
              "ticks": ""
             }
            },
            "type": "parcoords"
           }
          ],
          "pie": [
           {
            "automargin": true,
            "type": "pie"
           }
          ],
          "scatter": [
           {
            "fillpattern": {
             "fillmode": "overlay",
             "size": 10,
             "solidity": 0.2
            },
            "type": "scatter"
           }
          ],
          "scatter3d": [
           {
            "line": {
             "colorbar": {
              "outlinewidth": 0,
              "ticks": ""
             }
            },
            "marker": {
             "colorbar": {
              "outlinewidth": 0,
              "ticks": ""
             }
            },
            "type": "scatter3d"
           }
          ],
          "scattercarpet": [
           {
            "marker": {
             "colorbar": {
              "outlinewidth": 0,
              "ticks": ""
             }
            },
            "type": "scattercarpet"
           }
          ],
          "scattergeo": [
           {
            "marker": {
             "colorbar": {
              "outlinewidth": 0,
              "ticks": ""
             }
            },
            "type": "scattergeo"
           }
          ],
          "scattergl": [
           {
            "marker": {
             "colorbar": {
              "outlinewidth": 0,
              "ticks": ""
             }
            },
            "type": "scattergl"
           }
          ],
          "scattermapbox": [
           {
            "marker": {
             "colorbar": {
              "outlinewidth": 0,
              "ticks": ""
             }
            },
            "type": "scattermapbox"
           }
          ],
          "scatterpolar": [
           {
            "marker": {
             "colorbar": {
              "outlinewidth": 0,
              "ticks": ""
             }
            },
            "type": "scatterpolar"
           }
          ],
          "scatterpolargl": [
           {
            "marker": {
             "colorbar": {
              "outlinewidth": 0,
              "ticks": ""
             }
            },
            "type": "scatterpolargl"
           }
          ],
          "scatterternary": [
           {
            "marker": {
             "colorbar": {
              "outlinewidth": 0,
              "ticks": ""
             }
            },
            "type": "scatterternary"
           }
          ],
          "surface": [
           {
            "colorbar": {
             "outlinewidth": 0,
             "ticks": ""
            },
            "colorscale": [
             [
              0,
              "#0d0887"
             ],
             [
              0.1111111111111111,
              "#46039f"
             ],
             [
              0.2222222222222222,
              "#7201a8"
             ],
             [
              0.3333333333333333,
              "#9c179e"
             ],
             [
              0.4444444444444444,
              "#bd3786"
             ],
             [
              0.5555555555555556,
              "#d8576b"
             ],
             [
              0.6666666666666666,
              "#ed7953"
             ],
             [
              0.7777777777777778,
              "#fb9f3a"
             ],
             [
              0.8888888888888888,
              "#fdca26"
             ],
             [
              1,
              "#f0f921"
             ]
            ],
            "type": "surface"
           }
          ],
          "table": [
           {
            "cells": {
             "fill": {
              "color": "#EBF0F8"
             },
             "line": {
              "color": "white"
             }
            },
            "header": {
             "fill": {
              "color": "#C8D4E3"
             },
             "line": {
              "color": "white"
             }
            },
            "type": "table"
           }
          ]
         },
         "layout": {
          "annotationdefaults": {
           "arrowcolor": "#2a3f5f",
           "arrowhead": 0,
           "arrowwidth": 1
          },
          "autotypenumbers": "strict",
          "coloraxis": {
           "colorbar": {
            "outlinewidth": 0,
            "ticks": ""
           }
          },
          "colorscale": {
           "diverging": [
            [
             0,
             "#8e0152"
            ],
            [
             0.1,
             "#c51b7d"
            ],
            [
             0.2,
             "#de77ae"
            ],
            [
             0.3,
             "#f1b6da"
            ],
            [
             0.4,
             "#fde0ef"
            ],
            [
             0.5,
             "#f7f7f7"
            ],
            [
             0.6,
             "#e6f5d0"
            ],
            [
             0.7,
             "#b8e186"
            ],
            [
             0.8,
             "#7fbc41"
            ],
            [
             0.9,
             "#4d9221"
            ],
            [
             1,
             "#276419"
            ]
           ],
           "sequential": [
            [
             0,
             "#0d0887"
            ],
            [
             0.1111111111111111,
             "#46039f"
            ],
            [
             0.2222222222222222,
             "#7201a8"
            ],
            [
             0.3333333333333333,
             "#9c179e"
            ],
            [
             0.4444444444444444,
             "#bd3786"
            ],
            [
             0.5555555555555556,
             "#d8576b"
            ],
            [
             0.6666666666666666,
             "#ed7953"
            ],
            [
             0.7777777777777778,
             "#fb9f3a"
            ],
            [
             0.8888888888888888,
             "#fdca26"
            ],
            [
             1,
             "#f0f921"
            ]
           ],
           "sequentialminus": [
            [
             0,
             "#0d0887"
            ],
            [
             0.1111111111111111,
             "#46039f"
            ],
            [
             0.2222222222222222,
             "#7201a8"
            ],
            [
             0.3333333333333333,
             "#9c179e"
            ],
            [
             0.4444444444444444,
             "#bd3786"
            ],
            [
             0.5555555555555556,
             "#d8576b"
            ],
            [
             0.6666666666666666,
             "#ed7953"
            ],
            [
             0.7777777777777778,
             "#fb9f3a"
            ],
            [
             0.8888888888888888,
             "#fdca26"
            ],
            [
             1,
             "#f0f921"
            ]
           ]
          },
          "colorway": [
           "#636efa",
           "#EF553B",
           "#00cc96",
           "#ab63fa",
           "#FFA15A",
           "#19d3f3",
           "#FF6692",
           "#B6E880",
           "#FF97FF",
           "#FECB52"
          ],
          "font": {
           "color": "#2a3f5f"
          },
          "geo": {
           "bgcolor": "white",
           "lakecolor": "white",
           "landcolor": "#E5ECF6",
           "showlakes": true,
           "showland": true,
           "subunitcolor": "white"
          },
          "hoverlabel": {
           "align": "left"
          },
          "hovermode": "closest",
          "mapbox": {
           "style": "light"
          },
          "paper_bgcolor": "white",
          "plot_bgcolor": "#E5ECF6",
          "polar": {
           "angularaxis": {
            "gridcolor": "white",
            "linecolor": "white",
            "ticks": ""
           },
           "bgcolor": "#E5ECF6",
           "radialaxis": {
            "gridcolor": "white",
            "linecolor": "white",
            "ticks": ""
           }
          },
          "scene": {
           "xaxis": {
            "backgroundcolor": "#E5ECF6",
            "gridcolor": "white",
            "gridwidth": 2,
            "linecolor": "white",
            "showbackground": true,
            "ticks": "",
            "zerolinecolor": "white"
           },
           "yaxis": {
            "backgroundcolor": "#E5ECF6",
            "gridcolor": "white",
            "gridwidth": 2,
            "linecolor": "white",
            "showbackground": true,
            "ticks": "",
            "zerolinecolor": "white"
           },
           "zaxis": {
            "backgroundcolor": "#E5ECF6",
            "gridcolor": "white",
            "gridwidth": 2,
            "linecolor": "white",
            "showbackground": true,
            "ticks": "",
            "zerolinecolor": "white"
           }
          },
          "shapedefaults": {
           "line": {
            "color": "#2a3f5f"
           }
          },
          "ternary": {
           "aaxis": {
            "gridcolor": "white",
            "linecolor": "white",
            "ticks": ""
           },
           "baxis": {
            "gridcolor": "white",
            "linecolor": "white",
            "ticks": ""
           },
           "bgcolor": "#E5ECF6",
           "caxis": {
            "gridcolor": "white",
            "linecolor": "white",
            "ticks": ""
           }
          },
          "title": {
           "x": 0.05
          },
          "xaxis": {
           "automargin": true,
           "gridcolor": "white",
           "linecolor": "white",
           "ticks": "",
           "title": {
            "standoff": 15
           },
           "zerolinecolor": "white",
           "zerolinewidth": 2
          },
          "yaxis": {
           "automargin": true,
           "gridcolor": "white",
           "linecolor": "white",
           "ticks": "",
           "title": {
            "standoff": 15
           },
           "zerolinecolor": "white",
           "zerolinewidth": 2
          }
         }
        },
        "xaxis": {
         "anchor": "y",
         "domain": [
          0,
          1
         ],
         "title": {
          "text": "Terms"
         }
        },
        "yaxis": {
         "anchor": "x",
         "domain": [
          0,
          1
         ],
         "title": {
          "text": "Frequency"
         }
        }
       }
      }
     },
     "metadata": {},
     "output_type": "display_data"
    }
   ],
   "source": [
    "'''\n",
    "Count the term frequency of each term in the dataset, \n",
    "then get the index from the most frequent term to the least frequent term.\n",
    "'''\n",
    "term_freq = np.asarray(dataset_dtm.sum(axis=0))[0]\n",
    "sorted_tf_index = sorted(range(len(term_freq)), key=lambda k: term_freq[k], reverse=True)\n",
    "\n",
    "# Visulize for the first 300 frequent terms\n",
    "fig = px.bar(\n",
    "        x=dtm_vectorizer.get_feature_names_out()[sorted_tf_index[:300]],\n",
    "        y=term_freq[sorted_tf_index[:300]],\n",
    "        labels={'x':'Term', 'y':'Frequency'},\n",
    ")\n",
    "fig.update_layout(xaxis_title=\"Terms\",\n",
    "                  yaxis_title=\"Frequency\")\n",
    "fig.show()\n"
   ]
  },
  {
   "cell_type": "markdown",
   "metadata": {},
   "source": [
    "## 2.5 Attribute Transformation\n",
    "However, the variance of the term frequency is quite high, it may make people misinterprete the data or miss some infromation from a graph. So we can try to do logarithmic transformation to if there is any other pattern in the dataset."
   ]
  },
  {
   "cell_type": "code",
   "execution_count": 176,
   "metadata": {},
   "outputs": [
    {
     "data": {
      "application/vnd.plotly.v1+json": {
       "config": {
        "plotlyServerURL": "https://plot.ly"
       },
       "data": [
        {
         "alignmentgroup": "True",
         "hovertemplate": "Term=%{x}<br>Log(Frequency)=%{y}<extra></extra>",
         "legendgroup": "",
         "marker": {
          "color": "#636efa",
          "pattern": {
           "shape": ""
          }
         },
         "name": "",
         "offsetgroup": "",
         "orientation": "v",
         "showlegend": false,
         "textposition": "auto",
         "type": "bar",
         "x": [
          "the",
          "this",
          "to",
          "and",
          "my",
          "song",
          "of",
          "in",
          "it",
          "was",
          "me",
          "is",
          "you",
          "that",
          "so",
          "love",
          "when",
          "back",
          "for",
          "music",
          "memories",
          "on",
          "with",
          "time",
          "great",
          "but",
          "have",
          "years",
          "all",
          "he",
          "beautiful",
          "as",
          "like",
          "one",
          "songs",
          "old",
          "just",
          "her",
          "we",
          "she",
          "at",
          "be",
          "from",
          "good",
          "not",
          "now",
          "voice",
          "can",
          "what",
          "remember",
          "always",
          "his",
          "still",
          "they",
          "much",
          "brings",
          "will",
          "are",
          "never",
          "days",
          "had",
          "many",
          "very",
          "am",
          "up",
          "best",
          "listening",
          "him",
          "thank",
          "first",
          "these",
          "really",
          "miss",
          "who",
          "how",
          "listen",
          "out",
          "about",
          "hear",
          "childhood",
          "were",
          "heard",
          "no",
          "ever",
          "loved",
          "reminds",
          "there",
          "those",
          "would",
          "by",
          "only",
          "know",
          "sing",
          "an",
          "more",
          "has",
          "every",
          "if",
          "dad",
          "life",
          "could",
          "young",
          "some",
          "then",
          "today",
          "such",
          "used",
          "day",
          "don",
          "singing",
          "think",
          "thanks",
          "times",
          "played",
          "again",
          "been",
          "school",
          "do",
          "singer",
          "or",
          "get",
          "too",
          "wish",
          "wonderful",
          "favorite",
          "makes",
          "most",
          "sad",
          "them",
          "world",
          "over",
          "did",
          "go",
          "here",
          "man",
          "after",
          "came",
          "got",
          "happy",
          "heart",
          "our",
          "people",
          "play",
          "ago",
          "little",
          "radio",
          "way",
          "your",
          "come",
          "well",
          "feel",
          "nice",
          "real",
          "their",
          "because",
          "make",
          "mom",
          "version",
          "video",
          "god",
          "passed",
          "than",
          "away",
          "its",
          "long",
          "see",
          "better",
          "mum",
          "year",
          "age",
          "country",
          "lyrics",
          "made",
          "us",
          "why",
          "wow",
          "classic",
          "elvis",
          "jim",
          "takes",
          "amazing",
          "being",
          "girl",
          "lovely",
          "where",
          "forever",
          "live",
          "fantastic",
          "lot",
          "name",
          "say",
          "before",
          "even",
          "playing",
          "60",
          "dance",
          "early",
          "kid",
          "oh",
          "child",
          "reeves",
          "sweet",
          "another",
          "any",
          "around",
          "cry",
          "memory",
          "since",
          "tears",
          "want",
          "2019",
          "bring",
          "high",
          "into",
          "parents",
          "ve",
          "70",
          "didn",
          "eyes",
          "few",
          "gone",
          "listened",
          "sang",
          "father",
          "feeling",
          "kind",
          "record",
          "singers",
          "true",
          "tune",
          "anymore",
          "anyone",
          "died",
          "era",
          "greatest",
          "hit",
          "right",
          "which",
          "words",
          "friend",
          "last",
          "later",
          "mother",
          "new",
          "other",
          "past",
          "same",
          "sure",
          "yes",
          "50",
          "60s",
          "born",
          "boy",
          "brought",
          "find",
          "look",
          "nothing",
          "should",
          "someone",
          "something",
          "sound",
          "take",
          "youtube",
          "80",
          "brilliant",
          "down",
          "going",
          "grew",
          "hearing",
          "late",
          "lost",
          "nostalgic",
          "once",
          "romantic",
          "teenager",
          "through",
          "yesterday",
          "also",
          "awesome",
          "called",
          "dancing",
          "home",
          "pop",
          "rip",
          "rock",
          "sounds",
          "thought",
          "70s",
          "almost",
          "band",
          "during",
          "family",
          "lady",
          "left",
          "lol",
          "may",
          "mind",
          "missed",
          "original",
          "please"
         ],
         "xaxis": "x",
         "y": [
          7.208600337960199,
          6.904750769961838,
          6.842683282238422,
          6.827629234502852,
          6.639875833826536,
          6.617402977974478,
          6.582025138892826,
          6.416732282512326,
          6.373319789577012,
          6.369900982828227,
          5.961005339623274,
          5.926926025970411,
          5.905361848054571,
          5.886104031450156,
          5.752572638825633,
          5.733341276897746,
          5.700443573390687,
          5.66988092298052,
          5.627621113690637,
          5.58724865840025,
          5.497168225293202,
          5.480638923341991,
          5.402677381872279,
          5.3612921657094255,
          5.342334251964811,
          5.272999558563747,
          5.225746673713202,
          5.214935757608986,
          5.198497031265826,
          5.181783550292085,
          5.147494476813453,
          5.14166355650266,
          5.1298987149230735,
          5.117993812416755,
          5.075173815233827,
          5.0689042022202315,
          5.0369526024136295,
          5.030437921392435,
          4.962844630259907,
          4.955827057601261,
          4.9344739331306915,
          4.9344739331306915,
          4.9344739331306915,
          4.927253685157205,
          4.919980925828125,
          4.919980925828125,
          4.919980925828125,
          4.912654885736052,
          4.912654885736052,
          4.882801922586371,
          4.844187086458591,
          4.812184355372417,
          4.770684624465665,
          4.762173934797756,
          4.74493212836325,
          4.68213122712422,
          4.653960350157523,
          4.634728988229636,
          4.624972813284271,
          4.605170185988092,
          4.605170185988092,
          4.605170185988092,
          4.553876891600541,
          4.543294782270004,
          4.543294782270004,
          4.532599493153256,
          4.5217885770490405,
          4.48863636973214,
          4.48863636973214,
          4.477336814478207,
          4.477336814478207,
          4.465908118654584,
          4.454347296253507,
          4.454347296253507,
          4.442651256490317,
          4.442651256490317,
          4.442651256490317,
          4.406719247264253,
          4.406719247264253,
          4.394449154672439,
          4.394449154672439,
          4.3694478524670215,
          4.3694478524670215,
          4.356708826689592,
          4.330733340286331,
          4.330733340286331,
          4.330733340286331,
          4.330733340286331,
          4.330733340286331,
          4.31748811353631,
          4.30406509320417,
          4.290459441148391,
          4.290459441148391,
          4.276666119016055,
          4.276666119016055,
          4.2626798770413155,
          4.248495242049359,
          4.219507705176107,
          4.204692619390966,
          4.204692619390966,
          4.189654742026425,
          4.174387269895637,
          4.1588830833596715,
          4.1588830833596715,
          4.127134385045092,
          4.110873864173311,
          4.110873864173311,
          4.0943445622221,
          4.0943445622221,
          4.0943445622221,
          4.0943445622221,
          4.07753744390572,
          4.07753744390572,
          4.02535169073515,
          4.007333185232471,
          4.007333185232471,
          4.007333185232471,
          3.9889840465642745,
          3.9889840465642745,
          3.970291913552122,
          3.9512437185814275,
          3.9512437185814275,
          3.9512437185814275,
          3.9318256327243257,
          3.912023005428146,
          3.912023005428146,
          3.912023005428146,
          3.912023005428146,
          3.912023005428146,
          3.912023005428146,
          3.8918202981106265,
          3.871201010907891,
          3.871201010907891,
          3.871201010907891,
          3.871201010907891,
          3.8501476017100584,
          3.8501476017100584,
          3.8501476017100584,
          3.8501476017100584,
          3.8501476017100584,
          3.8501476017100584,
          3.8501476017100584,
          3.8501476017100584,
          3.828641396489095,
          3.828641396489095,
          3.8066624897703196,
          3.8066624897703196,
          3.8066624897703196,
          3.784189633918261,
          3.7376696182833684,
          3.6888794541139363,
          3.6888794541139363,
          3.6888794541139363,
          3.6888794541139363,
          3.6635616461296463,
          3.6635616461296463,
          3.6635616461296463,
          3.6635616461296463,
          3.6635616461296463,
          3.6375861597263857,
          3.6375861597263857,
          3.6375861597263857,
          3.6109179126442243,
          3.6109179126442243,
          3.6109179126442243,
          3.6109179126442243,
          3.58351893845611,
          3.58351893845611,
          3.58351893845611,
          3.5553480614894135,
          3.5553480614894135,
          3.5553480614894135,
          3.5553480614894135,
          3.5553480614894135,
          3.5553480614894135,
          3.5553480614894135,
          3.5263605246161616,
          3.5263605246161616,
          3.5263605246161616,
          3.5263605246161616,
          3.4965075614664802,
          3.4965075614664802,
          3.4965075614664802,
          3.4965075614664802,
          3.4657359027997265,
          3.4339872044851463,
          3.4339872044851463,
          3.4011973816621555,
          3.4011973816621555,
          3.4011973816621555,
          3.4011973816621555,
          3.367295829986474,
          3.367295829986474,
          3.367295829986474,
          3.332204510175204,
          3.332204510175204,
          3.332204510175204,
          3.332204510175204,
          3.332204510175204,
          3.295836866004329,
          3.295836866004329,
          3.295836866004329,
          3.258096538021482,
          3.258096538021482,
          3.258096538021482,
          3.258096538021482,
          3.258096538021482,
          3.258096538021482,
          3.258096538021482,
          3.258096538021482,
          3.2188758248682006,
          3.2188758248682006,
          3.2188758248682006,
          3.2188758248682006,
          3.2188758248682006,
          3.2188758248682006,
          3.1780538303479458,
          3.1780538303479458,
          3.1780538303479458,
          3.1780538303479458,
          3.1780538303479458,
          3.1780538303479458,
          3.1780538303479458,
          3.1354942159291497,
          3.1354942159291497,
          3.1354942159291497,
          3.1354942159291497,
          3.1354942159291497,
          3.1354942159291497,
          3.1354942159291497,
          3.091042453358316,
          3.091042453358316,
          3.091042453358316,
          3.091042453358316,
          3.091042453358316,
          3.091042453358316,
          3.091042453358316,
          3.091042453358316,
          3.091042453358316,
          3.044522437723423,
          3.044522437723423,
          3.044522437723423,
          3.044522437723423,
          3.044522437723423,
          3.044522437723423,
          3.044522437723423,
          3.044522437723423,
          3.044522437723423,
          3.044522437723423,
          2.995732273553991,
          2.995732273553991,
          2.995732273553991,
          2.995732273553991,
          2.995732273553991,
          2.995732273553991,
          2.995732273553991,
          2.995732273553991,
          2.995732273553991,
          2.995732273553991,
          2.995732273553991,
          2.995732273553991,
          2.995732273553991,
          2.995732273553991,
          2.9444389791664403,
          2.9444389791664403,
          2.9444389791664403,
          2.9444389791664403,
          2.9444389791664403,
          2.9444389791664403,
          2.9444389791664403,
          2.9444389791664403,
          2.9444389791664403,
          2.9444389791664403,
          2.9444389791664403,
          2.9444389791664403,
          2.9444389791664403,
          2.9444389791664403,
          2.8903717578961645,
          2.8903717578961645,
          2.8903717578961645,
          2.8903717578961645,
          2.8903717578961645,
          2.8903717578961645,
          2.8903717578961645,
          2.8903717578961645,
          2.8903717578961645,
          2.8903717578961645,
          2.833213344056216,
          2.833213344056216,
          2.833213344056216,
          2.833213344056216,
          2.833213344056216,
          2.833213344056216,
          2.833213344056216,
          2.833213344056216,
          2.833213344056216,
          2.833213344056216,
          2.833213344056216,
          2.833213344056216,
          2.833213344056216
         ],
         "yaxis": "y"
        }
       ],
       "layout": {
        "barmode": "relative",
        "legend": {
         "tracegroupgap": 0
        },
        "margin": {
         "t": 60
        },
        "template": {
         "data": {
          "bar": [
           {
            "error_x": {
             "color": "#2a3f5f"
            },
            "error_y": {
             "color": "#2a3f5f"
            },
            "marker": {
             "line": {
              "color": "#E5ECF6",
              "width": 0.5
             },
             "pattern": {
              "fillmode": "overlay",
              "size": 10,
              "solidity": 0.2
             }
            },
            "type": "bar"
           }
          ],
          "barpolar": [
           {
            "marker": {
             "line": {
              "color": "#E5ECF6",
              "width": 0.5
             },
             "pattern": {
              "fillmode": "overlay",
              "size": 10,
              "solidity": 0.2
             }
            },
            "type": "barpolar"
           }
          ],
          "carpet": [
           {
            "aaxis": {
             "endlinecolor": "#2a3f5f",
             "gridcolor": "white",
             "linecolor": "white",
             "minorgridcolor": "white",
             "startlinecolor": "#2a3f5f"
            },
            "baxis": {
             "endlinecolor": "#2a3f5f",
             "gridcolor": "white",
             "linecolor": "white",
             "minorgridcolor": "white",
             "startlinecolor": "#2a3f5f"
            },
            "type": "carpet"
           }
          ],
          "choropleth": [
           {
            "colorbar": {
             "outlinewidth": 0,
             "ticks": ""
            },
            "type": "choropleth"
           }
          ],
          "contour": [
           {
            "colorbar": {
             "outlinewidth": 0,
             "ticks": ""
            },
            "colorscale": [
             [
              0,
              "#0d0887"
             ],
             [
              0.1111111111111111,
              "#46039f"
             ],
             [
              0.2222222222222222,
              "#7201a8"
             ],
             [
              0.3333333333333333,
              "#9c179e"
             ],
             [
              0.4444444444444444,
              "#bd3786"
             ],
             [
              0.5555555555555556,
              "#d8576b"
             ],
             [
              0.6666666666666666,
              "#ed7953"
             ],
             [
              0.7777777777777778,
              "#fb9f3a"
             ],
             [
              0.8888888888888888,
              "#fdca26"
             ],
             [
              1,
              "#f0f921"
             ]
            ],
            "type": "contour"
           }
          ],
          "contourcarpet": [
           {
            "colorbar": {
             "outlinewidth": 0,
             "ticks": ""
            },
            "type": "contourcarpet"
           }
          ],
          "heatmap": [
           {
            "colorbar": {
             "outlinewidth": 0,
             "ticks": ""
            },
            "colorscale": [
             [
              0,
              "#0d0887"
             ],
             [
              0.1111111111111111,
              "#46039f"
             ],
             [
              0.2222222222222222,
              "#7201a8"
             ],
             [
              0.3333333333333333,
              "#9c179e"
             ],
             [
              0.4444444444444444,
              "#bd3786"
             ],
             [
              0.5555555555555556,
              "#d8576b"
             ],
             [
              0.6666666666666666,
              "#ed7953"
             ],
             [
              0.7777777777777778,
              "#fb9f3a"
             ],
             [
              0.8888888888888888,
              "#fdca26"
             ],
             [
              1,
              "#f0f921"
             ]
            ],
            "type": "heatmap"
           }
          ],
          "heatmapgl": [
           {
            "colorbar": {
             "outlinewidth": 0,
             "ticks": ""
            },
            "colorscale": [
             [
              0,
              "#0d0887"
             ],
             [
              0.1111111111111111,
              "#46039f"
             ],
             [
              0.2222222222222222,
              "#7201a8"
             ],
             [
              0.3333333333333333,
              "#9c179e"
             ],
             [
              0.4444444444444444,
              "#bd3786"
             ],
             [
              0.5555555555555556,
              "#d8576b"
             ],
             [
              0.6666666666666666,
              "#ed7953"
             ],
             [
              0.7777777777777778,
              "#fb9f3a"
             ],
             [
              0.8888888888888888,
              "#fdca26"
             ],
             [
              1,
              "#f0f921"
             ]
            ],
            "type": "heatmapgl"
           }
          ],
          "histogram": [
           {
            "marker": {
             "pattern": {
              "fillmode": "overlay",
              "size": 10,
              "solidity": 0.2
             }
            },
            "type": "histogram"
           }
          ],
          "histogram2d": [
           {
            "colorbar": {
             "outlinewidth": 0,
             "ticks": ""
            },
            "colorscale": [
             [
              0,
              "#0d0887"
             ],
             [
              0.1111111111111111,
              "#46039f"
             ],
             [
              0.2222222222222222,
              "#7201a8"
             ],
             [
              0.3333333333333333,
              "#9c179e"
             ],
             [
              0.4444444444444444,
              "#bd3786"
             ],
             [
              0.5555555555555556,
              "#d8576b"
             ],
             [
              0.6666666666666666,
              "#ed7953"
             ],
             [
              0.7777777777777778,
              "#fb9f3a"
             ],
             [
              0.8888888888888888,
              "#fdca26"
             ],
             [
              1,
              "#f0f921"
             ]
            ],
            "type": "histogram2d"
           }
          ],
          "histogram2dcontour": [
           {
            "colorbar": {
             "outlinewidth": 0,
             "ticks": ""
            },
            "colorscale": [
             [
              0,
              "#0d0887"
             ],
             [
              0.1111111111111111,
              "#46039f"
             ],
             [
              0.2222222222222222,
              "#7201a8"
             ],
             [
              0.3333333333333333,
              "#9c179e"
             ],
             [
              0.4444444444444444,
              "#bd3786"
             ],
             [
              0.5555555555555556,
              "#d8576b"
             ],
             [
              0.6666666666666666,
              "#ed7953"
             ],
             [
              0.7777777777777778,
              "#fb9f3a"
             ],
             [
              0.8888888888888888,
              "#fdca26"
             ],
             [
              1,
              "#f0f921"
             ]
            ],
            "type": "histogram2dcontour"
           }
          ],
          "mesh3d": [
           {
            "colorbar": {
             "outlinewidth": 0,
             "ticks": ""
            },
            "type": "mesh3d"
           }
          ],
          "parcoords": [
           {
            "line": {
             "colorbar": {
              "outlinewidth": 0,
              "ticks": ""
             }
            },
            "type": "parcoords"
           }
          ],
          "pie": [
           {
            "automargin": true,
            "type": "pie"
           }
          ],
          "scatter": [
           {
            "fillpattern": {
             "fillmode": "overlay",
             "size": 10,
             "solidity": 0.2
            },
            "type": "scatter"
           }
          ],
          "scatter3d": [
           {
            "line": {
             "colorbar": {
              "outlinewidth": 0,
              "ticks": ""
             }
            },
            "marker": {
             "colorbar": {
              "outlinewidth": 0,
              "ticks": ""
             }
            },
            "type": "scatter3d"
           }
          ],
          "scattercarpet": [
           {
            "marker": {
             "colorbar": {
              "outlinewidth": 0,
              "ticks": ""
             }
            },
            "type": "scattercarpet"
           }
          ],
          "scattergeo": [
           {
            "marker": {
             "colorbar": {
              "outlinewidth": 0,
              "ticks": ""
             }
            },
            "type": "scattergeo"
           }
          ],
          "scattergl": [
           {
            "marker": {
             "colorbar": {
              "outlinewidth": 0,
              "ticks": ""
             }
            },
            "type": "scattergl"
           }
          ],
          "scattermapbox": [
           {
            "marker": {
             "colorbar": {
              "outlinewidth": 0,
              "ticks": ""
             }
            },
            "type": "scattermapbox"
           }
          ],
          "scatterpolar": [
           {
            "marker": {
             "colorbar": {
              "outlinewidth": 0,
              "ticks": ""
             }
            },
            "type": "scatterpolar"
           }
          ],
          "scatterpolargl": [
           {
            "marker": {
             "colorbar": {
              "outlinewidth": 0,
              "ticks": ""
             }
            },
            "type": "scatterpolargl"
           }
          ],
          "scatterternary": [
           {
            "marker": {
             "colorbar": {
              "outlinewidth": 0,
              "ticks": ""
             }
            },
            "type": "scatterternary"
           }
          ],
          "surface": [
           {
            "colorbar": {
             "outlinewidth": 0,
             "ticks": ""
            },
            "colorscale": [
             [
              0,
              "#0d0887"
             ],
             [
              0.1111111111111111,
              "#46039f"
             ],
             [
              0.2222222222222222,
              "#7201a8"
             ],
             [
              0.3333333333333333,
              "#9c179e"
             ],
             [
              0.4444444444444444,
              "#bd3786"
             ],
             [
              0.5555555555555556,
              "#d8576b"
             ],
             [
              0.6666666666666666,
              "#ed7953"
             ],
             [
              0.7777777777777778,
              "#fb9f3a"
             ],
             [
              0.8888888888888888,
              "#fdca26"
             ],
             [
              1,
              "#f0f921"
             ]
            ],
            "type": "surface"
           }
          ],
          "table": [
           {
            "cells": {
             "fill": {
              "color": "#EBF0F8"
             },
             "line": {
              "color": "white"
             }
            },
            "header": {
             "fill": {
              "color": "#C8D4E3"
             },
             "line": {
              "color": "white"
             }
            },
            "type": "table"
           }
          ]
         },
         "layout": {
          "annotationdefaults": {
           "arrowcolor": "#2a3f5f",
           "arrowhead": 0,
           "arrowwidth": 1
          },
          "autotypenumbers": "strict",
          "coloraxis": {
           "colorbar": {
            "outlinewidth": 0,
            "ticks": ""
           }
          },
          "colorscale": {
           "diverging": [
            [
             0,
             "#8e0152"
            ],
            [
             0.1,
             "#c51b7d"
            ],
            [
             0.2,
             "#de77ae"
            ],
            [
             0.3,
             "#f1b6da"
            ],
            [
             0.4,
             "#fde0ef"
            ],
            [
             0.5,
             "#f7f7f7"
            ],
            [
             0.6,
             "#e6f5d0"
            ],
            [
             0.7,
             "#b8e186"
            ],
            [
             0.8,
             "#7fbc41"
            ],
            [
             0.9,
             "#4d9221"
            ],
            [
             1,
             "#276419"
            ]
           ],
           "sequential": [
            [
             0,
             "#0d0887"
            ],
            [
             0.1111111111111111,
             "#46039f"
            ],
            [
             0.2222222222222222,
             "#7201a8"
            ],
            [
             0.3333333333333333,
             "#9c179e"
            ],
            [
             0.4444444444444444,
             "#bd3786"
            ],
            [
             0.5555555555555556,
             "#d8576b"
            ],
            [
             0.6666666666666666,
             "#ed7953"
            ],
            [
             0.7777777777777778,
             "#fb9f3a"
            ],
            [
             0.8888888888888888,
             "#fdca26"
            ],
            [
             1,
             "#f0f921"
            ]
           ],
           "sequentialminus": [
            [
             0,
             "#0d0887"
            ],
            [
             0.1111111111111111,
             "#46039f"
            ],
            [
             0.2222222222222222,
             "#7201a8"
            ],
            [
             0.3333333333333333,
             "#9c179e"
            ],
            [
             0.4444444444444444,
             "#bd3786"
            ],
            [
             0.5555555555555556,
             "#d8576b"
            ],
            [
             0.6666666666666666,
             "#ed7953"
            ],
            [
             0.7777777777777778,
             "#fb9f3a"
            ],
            [
             0.8888888888888888,
             "#fdca26"
            ],
            [
             1,
             "#f0f921"
            ]
           ]
          },
          "colorway": [
           "#636efa",
           "#EF553B",
           "#00cc96",
           "#ab63fa",
           "#FFA15A",
           "#19d3f3",
           "#FF6692",
           "#B6E880",
           "#FF97FF",
           "#FECB52"
          ],
          "font": {
           "color": "#2a3f5f"
          },
          "geo": {
           "bgcolor": "white",
           "lakecolor": "white",
           "landcolor": "#E5ECF6",
           "showlakes": true,
           "showland": true,
           "subunitcolor": "white"
          },
          "hoverlabel": {
           "align": "left"
          },
          "hovermode": "closest",
          "mapbox": {
           "style": "light"
          },
          "paper_bgcolor": "white",
          "plot_bgcolor": "#E5ECF6",
          "polar": {
           "angularaxis": {
            "gridcolor": "white",
            "linecolor": "white",
            "ticks": ""
           },
           "bgcolor": "#E5ECF6",
           "radialaxis": {
            "gridcolor": "white",
            "linecolor": "white",
            "ticks": ""
           }
          },
          "scene": {
           "xaxis": {
            "backgroundcolor": "#E5ECF6",
            "gridcolor": "white",
            "gridwidth": 2,
            "linecolor": "white",
            "showbackground": true,
            "ticks": "",
            "zerolinecolor": "white"
           },
           "yaxis": {
            "backgroundcolor": "#E5ECF6",
            "gridcolor": "white",
            "gridwidth": 2,
            "linecolor": "white",
            "showbackground": true,
            "ticks": "",
            "zerolinecolor": "white"
           },
           "zaxis": {
            "backgroundcolor": "#E5ECF6",
            "gridcolor": "white",
            "gridwidth": 2,
            "linecolor": "white",
            "showbackground": true,
            "ticks": "",
            "zerolinecolor": "white"
           }
          },
          "shapedefaults": {
           "line": {
            "color": "#2a3f5f"
           }
          },
          "ternary": {
           "aaxis": {
            "gridcolor": "white",
            "linecolor": "white",
            "ticks": ""
           },
           "baxis": {
            "gridcolor": "white",
            "linecolor": "white",
            "ticks": ""
           },
           "bgcolor": "#E5ECF6",
           "caxis": {
            "gridcolor": "white",
            "linecolor": "white",
            "ticks": ""
           }
          },
          "title": {
           "x": 0.05
          },
          "xaxis": {
           "automargin": true,
           "gridcolor": "white",
           "linecolor": "white",
           "ticks": "",
           "title": {
            "standoff": 15
           },
           "zerolinecolor": "white",
           "zerolinewidth": 2
          },
          "yaxis": {
           "automargin": true,
           "gridcolor": "white",
           "linecolor": "white",
           "ticks": "",
           "title": {
            "standoff": 15
           },
           "zerolinecolor": "white",
           "zerolinewidth": 2
          }
         }
        },
        "xaxis": {
         "anchor": "y",
         "domain": [
          0,
          1
         ],
         "title": {
          "text": "Terms"
         }
        },
        "yaxis": {
         "anchor": "x",
         "domain": [
          0,
          1
         ],
         "title": {
          "text": "Log(Frequency)"
         }
        }
       }
      }
     },
     "metadata": {},
     "output_type": "display_data"
    }
   ],
   "source": [
    "term_log_freq = np.array([math.log(tf) for tf in term_freq])\n",
    "\n",
    "fig = px.bar(\n",
    "        x=dtm_vectorizer.get_feature_names_out()[sorted_tf_index[:300]],\n",
    "        y=term_log_freq[sorted_tf_index[:300]],\n",
    "        labels={'x':'Term', 'y':'Log(Frequency)'},\n",
    ")\n",
    "fig.update_layout(xaxis_title=\"Terms\",\n",
    "                  yaxis_title=\"Log(Frequency)\")\n",
    "fig.show()"
   ]
  },
  {
   "cell_type": "markdown",
   "metadata": {},
   "source": [
    "# 3. Data Mining"
   ]
  },
  {
   "cell_type": "markdown",
   "metadata": {},
   "source": [
    "## 3.1 Separate Each Category (Preprocessing)\n",
    "Since we want to classify the category for each comments, so we may want to separate dataset by predefined categories to help us mining the pattern for each category."
   ]
  },
  {
   "cell_type": "code",
   "execution_count": 177,
   "metadata": {},
   "outputs": [],
   "source": [
    "# Create document-term matrix DataFrame for each category\n",
    "def create_DTM_df(df):\n",
    "    dtm_vectorizer = CountVectorizer()\n",
    "    dataset_dtm = dtm_vectorizer.fit_transform(df['comment'])\n",
    "    \n",
    "    # Get the unique words (vocabulary) from the vectorizer\n",
    "    words = dtm_vectorizer.get_feature_names_out()\n",
    "    \n",
    "    # Create a DataFrame where rows are documents and columns are words\n",
    "    DTM = pd.DataFrame(dataset_dtm.toarray(), columns=words)\n",
    "    \n",
    "    return DTM\n",
    "\n",
    "# Create df for each category\n",
    "dfs = {}\n",
    "\n",
    "for category in categories:\n",
    "    dfs[category] = dataset[dataset['sentiment'] == category].copy()\n",
    "\n",
    "# Create DTM DataFrames for each category\n",
    "dtms = {}\n",
    "\n",
    "for category in categories:\n",
    "    dtms[category] = create_DTM_df(dfs[category])"
   ]
  },
  {
   "cell_type": "code",
   "execution_count": 178,
   "metadata": {},
   "outputs": [
    {
     "data": {
      "image/png": "[encoded data removed]",
      "text/plain": [
       "<Figure size 1000x600 with 1 Axes>"
      ]
     },
     "metadata": {},
     "output_type": "display_data"
    }
   ],
   "source": [
    "category_number = 0 # 0 or 1\n",
    "\n",
    "# Visualize the frequency distribution\n",
    "plt.figure(figsize=(10, 6))\n",
    "\n",
    "# data: the frequencies of each term that appears in the category\n",
    "plt.hist(\n",
    "    dtms[categories[category_number]].sum(axis=0).to_numpy(), \n",
    "    bins=750,\n",
    "    edgecolor='black'\n",
    ")\n",
    "\n",
    "plt.title(f'Term Frequency Distribution for Category {categories[category_number]}')\n",
    "plt.xlabel('Frequency')\n",
    "plt.ylabel('Number of Terms')\n",
    "plt.xlim(1, 200) # only show frequencies [1, 200)\n",
    "\n",
    "plt.show()"
   ]
  },
  {
   "cell_type": "markdown",
   "metadata": {},
   "source": [
    "## 3.2 Noise Reduction (Preprocessing)\n",
    "In the graph shown above, we can see that there are still many outliers in each category, that would affect our classfication. So we should remove some of them.  \n",
    "Here, I remove the top **1%** and the bottom **50%** of terms."
   ]
  },
  {
   "cell_type": "code",
   "execution_count": 179,
   "metadata": {},
   "outputs": [
    {
     "name": "stdout",
     "output_type": "stream",
     "text": [
      "\n",
      "For category nostalgia we filtered the following words:\n",
      "Bottom 50.0% words: \n",
      "yo           1\n",
      "yet          1\n",
      "yester       1\n",
      "yeas         1\n",
      "yearn        1\n",
      "            ..\n",
      "known        1\n",
      "knowledge    1\n",
      "learning     1\n",
      "sept         1\n",
      "separate     1\n",
      "Length: 1147, dtype: int64\n",
      "Top 1.0% words: \n",
      "you         129\n",
      "time        134\n",
      "for         140\n",
      "love        144\n",
      "on          148\n",
      "that        150\n",
      "years       154\n",
      "so          179\n",
      "when        226\n",
      "memories    240\n",
      "back        272\n",
      "me          300\n",
      "it          318\n",
      "in          349\n",
      "of          361\n",
      "was         432\n",
      "song        440\n",
      "and         472\n",
      "to          543\n",
      "this        545\n",
      "my          566\n",
      "the         643\n",
      "dtype: int64\n",
      "\n",
      "For category not nostalgia we filtered the following words:\n",
      "Bottom 50.0% words: \n",
      "12           1\n",
      "16years      1\n",
      "zealand      1\n",
      "sensitive    1\n",
      "sense        1\n",
      "            ..\n",
      "lifetime     1\n",
      "lies         1\n",
      "lie          1\n",
      "levis        1\n",
      "levi         1\n",
      "Length: 1301, dtype: int64\n",
      "Top 1.0% words: \n",
      "what      92\n",
      "all       98\n",
      "great    103\n",
      "with     106\n",
      "he       108\n",
      "but      113\n",
      "like     115\n",
      "one      117\n",
      "have     119\n",
      "so       136\n",
      "for      138\n",
      "was      152\n",
      "music    160\n",
      "love     165\n",
      "my       199\n",
      "that     210\n",
      "you      238\n",
      "in       263\n",
      "is       265\n",
      "it       268\n",
      "song     308\n",
      "of       361\n",
      "to       394\n",
      "and      451\n",
      "this     452\n",
      "the      708\n",
      "dtype: int64\n"
     ]
    }
   ],
   "source": [
    " # Filter the top 1% and bottom 50% words based on their amount across all documents\n",
    "def noise_reduction(DTM, top_percent = 0.01, bottom_percent = 0.5):\n",
    "    # Calculate the amount of each word across all documents\n",
    "    word_amount = DTM.sum(axis=0)\n",
    "    \n",
    "    # Sort the words by their amount\n",
    "    sorted_words = word_amount.sort_values()\n",
    "    \n",
    "    # Calculate the number of words to remove\n",
    "    total_words = len(sorted_words)\n",
    "    top_n = int(top_percent * total_words)\n",
    "    bottom_n = int(bottom_percent * total_words)\n",
    "    \n",
    "    # Get the words to remove from the top 1% and bottom 50%\n",
    "    words_to_remove = pd.concat([sorted_words.head(bottom_n), sorted_words.tail(top_n)]).index\n",
    "    print(f'Bottom {bottom_percent * 100}% words: \\n{sorted_words.head(bottom_n)}') #H ere we print which words correspond to the bottom percentage we filter\n",
    "    print(f'Top {top_percent * 100}% words: \\n{sorted_words.tail(top_n)}') # Here we print which words correspond to the top percentage we filter\n",
    "    # Return the DataFrame without the filtered words\n",
    "    return DTM.drop(columns=words_to_remove)\n",
    "\n",
    "# filter the noise for each category\n",
    "filtered_dtms = {}\n",
    "\n",
    "for category in categories:\n",
    "    print(f'\\nFor category {category} we filtered the following words:')\n",
    "    filtered_dtms[category] = noise_reduction(dtms[category])"
   ]
  },
  {
   "cell_type": "markdown",
   "metadata": {},
   "source": [
    "## 3.3 Frequent Pattern Mining\n",
    "Now, we have made a dataset clean enough. We can start mining."
   ]
  },
  {
   "cell_type": "markdown",
   "metadata": {},
   "source": [
    "### 3.3.1 Build up Database\n",
    "We should convert the dataset into Transaction database so that PAMI can work on it.  \n",
    "We set transaction threshold to be 1, so each trasaction (= document) consists of items ( = word) that occur at least once (in whole vocabulary for that category)."
   ]
  },
  {
   "cell_type": "code",
   "execution_count": 180,
   "metadata": {},
   "outputs": [
    {
     "name": "stdout",
     "output_type": "stream",
     "text": [
      "Statistics for td_clean_nostalgia.csv:\n",
      "Database size (total no of transactions) : 750\n",
      "Number of items : 1126\n",
      "Minimum Transaction Size : 1\n",
      "Average Transaction Size : 13.253333333333334\n",
      "Maximum Transaction Size : 47\n",
      "Standard Deviation Transaction Size : 9.049336378369901\n",
      "Variance in Transaction Sizes : 81.99982198486872\n",
      "Sparsity : 0.9882297217288336\n",
      "\n",
      "Statistics for td_clean_not_nostalgia.csv:\n",
      "Database size (total no of transactions) : 749\n",
      "Number of items : 1275\n",
      "Minimum Transaction Size : 1\n",
      "Average Transaction Size : 12.423230974632844\n",
      "Maximum Transaction Size : 49\n",
      "Standard Deviation Transaction Size : 6.8805210413981985\n",
      "Variance in Transaction Sizes : 47.404860669841426\n",
      "Sparsity : 0.9902562894316606\n",
      "\n"
     ]
    },
    {
     "data": {
      "image/png": "[encoded data removed]",
      "text/plain": [
       "<Figure size 640x480 with 1 Axes>"
      ]
     },
     "metadata": {},
     "output_type": "display_data"
    },
    {
     "data": {
      "image/png": "[encoded data removed]",
      "text/plain": [
       "<Figure size 640x480 with 1 Axes>"
      ]
     },
     "metadata": {},
     "output_type": "display_data"
    },
    {
     "data": {
      "image/png": "[encoded data removed]",
      "text/plain": [
       "<Figure size 640x480 with 1 Axes>"
      ]
     },
     "metadata": {},
     "output_type": "display_data"
    },
    {
     "data": {
      "image/png": "[encoded data removed]",
      "text/plain": [
       "<Figure size 640x480 with 1 Axes>"
      ]
     },
     "metadata": {},
     "output_type": "display_data"
    }
   ],
   "source": [
    "# Loop through the dictionary of term-document DataFrames\n",
    "for category in filtered_dtms:\n",
    "    # Replace space with underscore\n",
    "    category_safe = category.replace(' ', '_')\n",
    "    \n",
    "    # Create the DenseFormatDF object and convert to a transactional database\n",
    "    obj = db.DenseFormatDF(filtered_dtms[category])                 \n",
    "    \n",
    "    # Save the transactional database to a CSV file\n",
    "    obj.convert2TransactionalDatabase(f'td_clean_{category_safe}.csv', '>=', 1)\n",
    "\n",
    "    # Load the transactional database and print the statistics\n",
    "    obj = tds.TransactionalDatabase(f'td_clean_{category_safe}.csv')\n",
    "    print(f\"Statistics for td_clean_{category_safe}.csv:\")\n",
    "    obj.run()\n",
    "    obj.printStats()\n",
    "    print()\n",
    "    obj.plotGraphs()"
   ]
  },
  {
   "cell_type": "markdown",
   "metadata": {},
   "source": [
    "### 3.3.2 Run FPGrowth algotihm\n",
    "We can utilize FPGrowth to help us find the frequent patterns for each category.  \n",
    "Set minSup = 18, because it seems to be a nice cut point for each category in the first graph."
   ]
  },
  {
   "cell_type": "code",
   "execution_count": 181,
   "metadata": {},
   "outputs": [
    {
     "name": "stdout",
     "output_type": "stream",
     "text": [
      "Frequent patterns were generated successfully using frequentPatternGrowth algorithm\n",
      "Total No of patterns: 131\n",
      "Runtime: 0.016635417938232422\n",
      "\n",
      "Frequent patterns were generated successfully using frequentPatternGrowth algorithm\n",
      "Total No of patterns: 172\n",
      "Runtime: 0.018349647521972656\n"
     ]
    }
   ],
   "source": [
    "# Find the freqient patterns for each category\n",
    "minSup = 18\n",
    "\n",
    "obj = alg.FPGrowth(iFile=f'td_clean_not_nostalgia.csv', minSup = minSup)\n",
    "obj.mine() \n",
    "obj.save('freq_patterns_not_nostalgia.txt') # save the patterns\n",
    "fp_df_not_nostalgia = obj.getPatternsAsDataFrame()\n",
    "print('Total No of patterns: ' + str(len(fp_df_not_nostalgia ))) # print the total number of patterns\n",
    "print('Runtime: ' + str(obj.getRuntime())) # measure the runtime\n",
    "print()\n",
    "\n",
    "obj = alg.FPGrowth(iFile=f'td_clean_nostalgia.csv', minSup = minSup)\n",
    "obj.mine() \n",
    "obj.save('freq_patterns_nostalgia.txt') # save the patterns\n",
    "fp_df_nostalgia = obj.getPatternsAsDataFrame()\n",
    "print('Total No of patterns: ' + str(len(fp_df_nostalgia ))) # print the total number of patterns\n",
    "print('Runtime: ' + str(obj.getRuntime())) # measure the runtime"
   ]
  },
  {
   "cell_type": "code",
   "execution_count": 182,
   "metadata": {},
   "outputs": [
    {
     "data": {
      "text/html": [
       "<div>\n",
       "<style scoped>\n",
       "    .dataframe tbody tr th:only-of-type {\n",
       "        vertical-align: middle;\n",
       "    }\n",
       "\n",
       "    .dataframe tbody tr th {\n",
       "        vertical-align: top;\n",
       "    }\n",
       "\n",
       "    .dataframe thead th {\n",
       "        text-align: right;\n",
       "    }\n",
       "</style>\n",
       "<table border=\"1\" class=\"dataframe\">\n",
       "  <thead>\n",
       "    <tr style=\"text-align: right;\">\n",
       "      <th></th>\n",
       "      <th>Patterns</th>\n",
       "      <th>Support</th>\n",
       "    </tr>\n",
       "  </thead>\n",
       "  <tbody>\n",
       "    <tr>\n",
       "      <th>0</th>\n",
       "      <td>teenager</td>\n",
       "      <td>18</td>\n",
       "    </tr>\n",
       "    <tr>\n",
       "      <th>1</th>\n",
       "      <td>heart</td>\n",
       "      <td>18</td>\n",
       "    </tr>\n",
       "    <tr>\n",
       "      <th>2</th>\n",
       "      <td>record</td>\n",
       "      <td>18</td>\n",
       "    </tr>\n",
       "    <tr>\n",
       "      <th>3</th>\n",
       "      <td>60</td>\n",
       "      <td>18</td>\n",
       "    </tr>\n",
       "    <tr>\n",
       "      <th>4</th>\n",
       "      <td>get</td>\n",
       "      <td>18</td>\n",
       "    </tr>\n",
       "    <tr>\n",
       "      <th>...</th>\n",
       "      <td>...</td>\n",
       "      <td>...</td>\n",
       "    </tr>\n",
       "    <tr>\n",
       "      <th>167</th>\n",
       "      <td>with old</td>\n",
       "      <td>20</td>\n",
       "    </tr>\n",
       "    <tr>\n",
       "      <th>168</th>\n",
       "      <td>with remember</td>\n",
       "      <td>26</td>\n",
       "    </tr>\n",
       "    <tr>\n",
       "      <th>169</th>\n",
       "      <td>old</td>\n",
       "      <td>108</td>\n",
       "    </tr>\n",
       "    <tr>\n",
       "      <th>170</th>\n",
       "      <td>old remember</td>\n",
       "      <td>23</td>\n",
       "    </tr>\n",
       "    <tr>\n",
       "      <th>171</th>\n",
       "      <td>remember</td>\n",
       "      <td>121</td>\n",
       "    </tr>\n",
       "  </tbody>\n",
       "</table>\n",
       "<p>172 rows × 2 columns</p>\n",
       "</div>"
      ],
      "text/plain": [
       "          Patterns  Support\n",
       "0         teenager       18\n",
       "1            heart       18\n",
       "2           record       18\n",
       "3               60       18\n",
       "4              get       18\n",
       "..             ...      ...\n",
       "167       with old       20\n",
       "168  with remember       26\n",
       "169            old      108\n",
       "170   old remember       23\n",
       "171       remember      121\n",
       "\n",
       "[172 rows x 2 columns]"
      ]
     },
     "execution_count": 182,
     "metadata": {},
     "output_type": "execute_result"
    }
   ],
   "source": [
    "fp_df_nostalgia"
   ]
  },
  {
   "cell_type": "code",
   "execution_count": 183,
   "metadata": {},
   "outputs": [
    {
     "data": {
      "text/html": [
       "<div>\n",
       "<style scoped>\n",
       "    .dataframe tbody tr th:only-of-type {\n",
       "        vertical-align: middle;\n",
       "    }\n",
       "\n",
       "    .dataframe tbody tr th {\n",
       "        vertical-align: top;\n",
       "    }\n",
       "\n",
       "    .dataframe thead th {\n",
       "        text-align: right;\n",
       "    }\n",
       "</style>\n",
       "<table border=\"1\" class=\"dataframe\">\n",
       "  <thead>\n",
       "    <tr style=\"text-align: right;\">\n",
       "      <th></th>\n",
       "      <th>Patterns</th>\n",
       "      <th>Support</th>\n",
       "    </tr>\n",
       "  </thead>\n",
       "  <tbody>\n",
       "    <tr>\n",
       "      <th>0</th>\n",
       "      <td>back</td>\n",
       "      <td>18</td>\n",
       "    </tr>\n",
       "    <tr>\n",
       "      <th>1</th>\n",
       "      <td>greatest</td>\n",
       "      <td>18</td>\n",
       "    </tr>\n",
       "    <tr>\n",
       "      <th>2</th>\n",
       "      <td>makes</td>\n",
       "      <td>18</td>\n",
       "    </tr>\n",
       "    <tr>\n",
       "      <th>3</th>\n",
       "      <td>age</td>\n",
       "      <td>19</td>\n",
       "    </tr>\n",
       "    <tr>\n",
       "      <th>4</th>\n",
       "      <td>young</td>\n",
       "      <td>19</td>\n",
       "    </tr>\n",
       "    <tr>\n",
       "      <th>...</th>\n",
       "      <td>...</td>\n",
       "      <td>...</td>\n",
       "    </tr>\n",
       "    <tr>\n",
       "      <th>126</th>\n",
       "      <td>be</td>\n",
       "      <td>79</td>\n",
       "    </tr>\n",
       "    <tr>\n",
       "      <th>127</th>\n",
       "      <td>me</td>\n",
       "      <td>83</td>\n",
       "    </tr>\n",
       "    <tr>\n",
       "      <th>128</th>\n",
       "      <td>on</td>\n",
       "      <td>84</td>\n",
       "    </tr>\n",
       "    <tr>\n",
       "      <th>129</th>\n",
       "      <td>can</td>\n",
       "      <td>85</td>\n",
       "    </tr>\n",
       "    <tr>\n",
       "      <th>130</th>\n",
       "      <td>not</td>\n",
       "      <td>87</td>\n",
       "    </tr>\n",
       "  </tbody>\n",
       "</table>\n",
       "<p>131 rows × 2 columns</p>\n",
       "</div>"
      ],
      "text/plain": [
       "     Patterns  Support\n",
       "0        back       18\n",
       "1    greatest       18\n",
       "2       makes       18\n",
       "3         age       19\n",
       "4       young       19\n",
       "..        ...      ...\n",
       "126        be       79\n",
       "127        me       83\n",
       "128        on       84\n",
       "129       can       85\n",
       "130       not       87\n",
       "\n",
       "[131 rows x 2 columns]"
      ]
     },
     "execution_count": 183,
     "metadata": {},
     "output_type": "execute_result"
    }
   ],
   "source": [
    "fp_df_not_nostalgia"
   ]
  },
  {
   "cell_type": "markdown",
   "metadata": {},
   "source": [
    "### 3.3.3 Find Unique Pattern\n",
    "We should filter the pattern that are specific to the category to help us do classification."
   ]
  },
  {
   "cell_type": "code",
   "execution_count": 184,
   "metadata": {},
   "outputs": [
    {
     "name": "stdout",
     "output_type": "stream",
     "text": [
      "       Patterns  Support\n",
      "134    remember      121\n",
      "130        with      107\n",
      "129      brings      103\n",
      "126          is       97\n",
      "125       great       93\n",
      "..          ...      ...\n",
      "99      he with       18\n",
      "105   just with       18\n",
      "104     have is       18\n",
      "108   good days       18\n",
      "123  music with       18\n",
      "\n",
      "[135 rows x 2 columns]\n",
      "Number of patterns discarded: 168\n"
     ]
    }
   ],
   "source": [
    "# We group together all of the dataframes related to our found patterns\n",
    "fp_dfs = [fp_df_not_nostalgia, fp_df_nostalgia]\n",
    "\n",
    "# Identify patterns that appear in more than one category\n",
    "# Count how many times each pattern appears across all dataframes\n",
    "pattern_counts = {}\n",
    "for df in fp_dfs:\n",
    "    for pattern in df['Patterns']:\n",
    "        if pattern not in pattern_counts:\n",
    "            pattern_counts[pattern] = 1\n",
    "        else:\n",
    "            pattern_counts[pattern] += 1\n",
    "\n",
    "# Filter out patterns that appear in more than one dataframe\n",
    "unique_patterns = {pattern for pattern, count in pattern_counts.items() if count == 1} # datatype: set\n",
    "\n",
    "# Calculate the total number of patterns across all categories (including duplicates)\n",
    "total_patterns_count = sum(len(df) for df in fp_dfs)\n",
    "# Calculate how many patterns were discarded\n",
    "discarded_patterns_count = total_patterns_count - len(unique_patterns)\n",
    "\n",
    "# For each category, filter the patterns to keep only the unique ones\n",
    "filtered_fp_dfs = []\n",
    "for df in fp_dfs:\n",
    "    filtered_df = df[df['Patterns'].isin(unique_patterns)]\n",
    "    filtered_fp_dfs.append(filtered_df)\n",
    "\n",
    "# Merge the filtered dataframes into a final dataframe\n",
    "final_pattern_df = pd.concat(filtered_fp_dfs, ignore_index=True)\n",
    "\n",
    "# Sort by support\n",
    "final_pattern_df = final_pattern_df.sort_values(by='Support', ascending=False)\n",
    "\n",
    "# Display the final result\n",
    "print(final_pattern_df)\n",
    "# Print the number of discarded patterns\n",
    "print(f\"Number of patterns discarded: {discarded_patterns_count}\")"
   ]
  },
  {
   "cell_type": "markdown",
   "metadata": {},
   "source": [
    "Then we can concatenate the final patterns to our the DTM of our dataset."
   ]
  },
  {
   "cell_type": "code",
   "execution_count": 185,
   "metadata": {},
   "outputs": [
    {
     "data": {
      "text/html": [
       "<div>\n",
       "<style scoped>\n",
       "    .dataframe tbody tr th:only-of-type {\n",
       "        vertical-align: middle;\n",
       "    }\n",
       "\n",
       "    .dataframe tbody tr th {\n",
       "        vertical-align: top;\n",
       "    }\n",
       "\n",
       "    .dataframe thead th {\n",
       "        text-align: right;\n",
       "    }\n",
       "</style>\n",
       "<table border=\"1\" class=\"dataframe\">\n",
       "  <thead>\n",
       "    <tr style=\"text-align: right;\">\n",
       "      <th></th>\n",
       "      <th>00</th>\n",
       "      <th>000</th>\n",
       "      <th>045</th>\n",
       "      <th>07</th>\n",
       "      <th>10</th>\n",
       "      <th>100</th>\n",
       "      <th>10m</th>\n",
       "      <th>11</th>\n",
       "      <th>11th</th>\n",
       "      <th>12</th>\n",
       "      <th>...</th>\n",
       "      <th>back</th>\n",
       "      <th>teenager</th>\n",
       "      <th>oh</th>\n",
       "      <th>60</th>\n",
       "      <th>record</th>\n",
       "      <th>he with</th>\n",
       "      <th>just with</th>\n",
       "      <th>have is</th>\n",
       "      <th>good days</th>\n",
       "      <th>music with</th>\n",
       "    </tr>\n",
       "  </thead>\n",
       "  <tbody>\n",
       "    <tr>\n",
       "      <th>0</th>\n",
       "      <td>0</td>\n",
       "      <td>0</td>\n",
       "      <td>0</td>\n",
       "      <td>0</td>\n",
       "      <td>0</td>\n",
       "      <td>0</td>\n",
       "      <td>0</td>\n",
       "      <td>0</td>\n",
       "      <td>0</td>\n",
       "      <td>0</td>\n",
       "      <td>...</td>\n",
       "      <td>0</td>\n",
       "      <td>0</td>\n",
       "      <td>0</td>\n",
       "      <td>0</td>\n",
       "      <td>0</td>\n",
       "      <td>0</td>\n",
       "      <td>0</td>\n",
       "      <td>0</td>\n",
       "      <td>0</td>\n",
       "      <td>0</td>\n",
       "    </tr>\n",
       "    <tr>\n",
       "      <th>1</th>\n",
       "      <td>0</td>\n",
       "      <td>0</td>\n",
       "      <td>0</td>\n",
       "      <td>0</td>\n",
       "      <td>0</td>\n",
       "      <td>0</td>\n",
       "      <td>0</td>\n",
       "      <td>0</td>\n",
       "      <td>0</td>\n",
       "      <td>0</td>\n",
       "      <td>...</td>\n",
       "      <td>0</td>\n",
       "      <td>0</td>\n",
       "      <td>0</td>\n",
       "      <td>0</td>\n",
       "      <td>0</td>\n",
       "      <td>0</td>\n",
       "      <td>0</td>\n",
       "      <td>0</td>\n",
       "      <td>0</td>\n",
       "      <td>0</td>\n",
       "    </tr>\n",
       "    <tr>\n",
       "      <th>2</th>\n",
       "      <td>0</td>\n",
       "      <td>0</td>\n",
       "      <td>0</td>\n",
       "      <td>0</td>\n",
       "      <td>0</td>\n",
       "      <td>0</td>\n",
       "      <td>0</td>\n",
       "      <td>0</td>\n",
       "      <td>0</td>\n",
       "      <td>0</td>\n",
       "      <td>...</td>\n",
       "      <td>0</td>\n",
       "      <td>0</td>\n",
       "      <td>0</td>\n",
       "      <td>0</td>\n",
       "      <td>0</td>\n",
       "      <td>0</td>\n",
       "      <td>1</td>\n",
       "      <td>0</td>\n",
       "      <td>0</td>\n",
       "      <td>0</td>\n",
       "    </tr>\n",
       "    <tr>\n",
       "      <th>3</th>\n",
       "      <td>0</td>\n",
       "      <td>0</td>\n",
       "      <td>0</td>\n",
       "      <td>0</td>\n",
       "      <td>0</td>\n",
       "      <td>0</td>\n",
       "      <td>0</td>\n",
       "      <td>0</td>\n",
       "      <td>0</td>\n",
       "      <td>0</td>\n",
       "      <td>...</td>\n",
       "      <td>1</td>\n",
       "      <td>0</td>\n",
       "      <td>0</td>\n",
       "      <td>0</td>\n",
       "      <td>0</td>\n",
       "      <td>0</td>\n",
       "      <td>0</td>\n",
       "      <td>1</td>\n",
       "      <td>0</td>\n",
       "      <td>0</td>\n",
       "    </tr>\n",
       "    <tr>\n",
       "      <th>4</th>\n",
       "      <td>0</td>\n",
       "      <td>0</td>\n",
       "      <td>0</td>\n",
       "      <td>0</td>\n",
       "      <td>0</td>\n",
       "      <td>0</td>\n",
       "      <td>0</td>\n",
       "      <td>0</td>\n",
       "      <td>0</td>\n",
       "      <td>0</td>\n",
       "      <td>...</td>\n",
       "      <td>0</td>\n",
       "      <td>0</td>\n",
       "      <td>0</td>\n",
       "      <td>0</td>\n",
       "      <td>0</td>\n",
       "      <td>0</td>\n",
       "      <td>0</td>\n",
       "      <td>0</td>\n",
       "      <td>0</td>\n",
       "      <td>0</td>\n",
       "    </tr>\n",
       "    <tr>\n",
       "      <th>...</th>\n",
       "      <td>...</td>\n",
       "      <td>...</td>\n",
       "      <td>...</td>\n",
       "      <td>...</td>\n",
       "      <td>...</td>\n",
       "      <td>...</td>\n",
       "      <td>...</td>\n",
       "      <td>...</td>\n",
       "      <td>...</td>\n",
       "      <td>...</td>\n",
       "      <td>...</td>\n",
       "      <td>...</td>\n",
       "      <td>...</td>\n",
       "      <td>...</td>\n",
       "      <td>...</td>\n",
       "      <td>...</td>\n",
       "      <td>...</td>\n",
       "      <td>...</td>\n",
       "      <td>...</td>\n",
       "      <td>...</td>\n",
       "      <td>...</td>\n",
       "    </tr>\n",
       "    <tr>\n",
       "      <th>1494</th>\n",
       "      <td>0</td>\n",
       "      <td>0</td>\n",
       "      <td>0</td>\n",
       "      <td>0</td>\n",
       "      <td>0</td>\n",
       "      <td>0</td>\n",
       "      <td>0</td>\n",
       "      <td>0</td>\n",
       "      <td>0</td>\n",
       "      <td>0</td>\n",
       "      <td>...</td>\n",
       "      <td>0</td>\n",
       "      <td>0</td>\n",
       "      <td>0</td>\n",
       "      <td>0</td>\n",
       "      <td>0</td>\n",
       "      <td>0</td>\n",
       "      <td>0</td>\n",
       "      <td>0</td>\n",
       "      <td>0</td>\n",
       "      <td>0</td>\n",
       "    </tr>\n",
       "    <tr>\n",
       "      <th>1495</th>\n",
       "      <td>0</td>\n",
       "      <td>0</td>\n",
       "      <td>0</td>\n",
       "      <td>0</td>\n",
       "      <td>0</td>\n",
       "      <td>0</td>\n",
       "      <td>0</td>\n",
       "      <td>0</td>\n",
       "      <td>0</td>\n",
       "      <td>0</td>\n",
       "      <td>...</td>\n",
       "      <td>0</td>\n",
       "      <td>0</td>\n",
       "      <td>0</td>\n",
       "      <td>0</td>\n",
       "      <td>0</td>\n",
       "      <td>0</td>\n",
       "      <td>0</td>\n",
       "      <td>0</td>\n",
       "      <td>0</td>\n",
       "      <td>0</td>\n",
       "    </tr>\n",
       "    <tr>\n",
       "      <th>1496</th>\n",
       "      <td>0</td>\n",
       "      <td>0</td>\n",
       "      <td>0</td>\n",
       "      <td>0</td>\n",
       "      <td>0</td>\n",
       "      <td>0</td>\n",
       "      <td>0</td>\n",
       "      <td>0</td>\n",
       "      <td>0</td>\n",
       "      <td>0</td>\n",
       "      <td>...</td>\n",
       "      <td>0</td>\n",
       "      <td>0</td>\n",
       "      <td>0</td>\n",
       "      <td>0</td>\n",
       "      <td>0</td>\n",
       "      <td>0</td>\n",
       "      <td>0</td>\n",
       "      <td>0</td>\n",
       "      <td>0</td>\n",
       "      <td>0</td>\n",
       "    </tr>\n",
       "    <tr>\n",
       "      <th>1497</th>\n",
       "      <td>0</td>\n",
       "      <td>0</td>\n",
       "      <td>0</td>\n",
       "      <td>0</td>\n",
       "      <td>0</td>\n",
       "      <td>0</td>\n",
       "      <td>0</td>\n",
       "      <td>0</td>\n",
       "      <td>0</td>\n",
       "      <td>0</td>\n",
       "      <td>...</td>\n",
       "      <td>0</td>\n",
       "      <td>0</td>\n",
       "      <td>0</td>\n",
       "      <td>0</td>\n",
       "      <td>0</td>\n",
       "      <td>0</td>\n",
       "      <td>0</td>\n",
       "      <td>0</td>\n",
       "      <td>0</td>\n",
       "      <td>0</td>\n",
       "    </tr>\n",
       "    <tr>\n",
       "      <th>1498</th>\n",
       "      <td>0</td>\n",
       "      <td>0</td>\n",
       "      <td>0</td>\n",
       "      <td>0</td>\n",
       "      <td>0</td>\n",
       "      <td>0</td>\n",
       "      <td>0</td>\n",
       "      <td>0</td>\n",
       "      <td>0</td>\n",
       "      <td>0</td>\n",
       "      <td>...</td>\n",
       "      <td>0</td>\n",
       "      <td>0</td>\n",
       "      <td>0</td>\n",
       "      <td>0</td>\n",
       "      <td>0</td>\n",
       "      <td>0</td>\n",
       "      <td>0</td>\n",
       "      <td>0</td>\n",
       "      <td>0</td>\n",
       "      <td>0</td>\n",
       "    </tr>\n",
       "  </tbody>\n",
       "</table>\n",
       "<p>1499 rows × 3865 columns</p>\n",
       "</div>"
      ],
      "text/plain": [
       "      00  000  045  07  10  100  10m  11  11th  12  ...  back  teenager  oh  \\\n",
       "0      0    0    0   0   0    0    0   0     0   0  ...     0         0   0   \n",
       "1      0    0    0   0   0    0    0   0     0   0  ...     0         0   0   \n",
       "2      0    0    0   0   0    0    0   0     0   0  ...     0         0   0   \n",
       "3      0    0    0   0   0    0    0   0     0   0  ...     1         0   0   \n",
       "4      0    0    0   0   0    0    0   0     0   0  ...     0         0   0   \n",
       "...   ..  ...  ...  ..  ..  ...  ...  ..   ...  ..  ...   ...       ...  ..   \n",
       "1494   0    0    0   0   0    0    0   0     0   0  ...     0         0   0   \n",
       "1495   0    0    0   0   0    0    0   0     0   0  ...     0         0   0   \n",
       "1496   0    0    0   0   0    0    0   0     0   0  ...     0         0   0   \n",
       "1497   0    0    0   0   0    0    0   0     0   0  ...     0         0   0   \n",
       "1498   0    0    0   0   0    0    0   0     0   0  ...     0         0   0   \n",
       "\n",
       "      60  record  he with  just with  have is  good days  music with  \n",
       "0      0       0        0          0        0          0           0  \n",
       "1      0       0        0          0        0          0           0  \n",
       "2      0       0        0          1        0          0           0  \n",
       "3      0       0        0          0        1          0           0  \n",
       "4      0       0        0          0        0          0           0  \n",
       "...   ..     ...      ...        ...      ...        ...         ...  \n",
       "1494   0       0        0          0        0          0           0  \n",
       "1495   0       0        0          0        0          0           0  \n",
       "1496   0       0        0          0        0          0           0  \n",
       "1497   0       0        0          0        0          0           0  \n",
       "1498   0       0        0          0        0          0           0  \n",
       "\n",
       "[1499 rows x 3865 columns]"
      ]
     },
     "execution_count": 185,
     "metadata": {},
     "output_type": "execute_result"
    }
   ],
   "source": [
    "# Convert 'text' column into DTM\n",
    "dtm_vectorizer = CountVectorizer()\n",
    "dataset_dtm = dtm_vectorizer.fit_transform(dataset['comment'])\n",
    "terms = dtm_vectorizer.get_feature_names_out()\n",
    "\n",
    "# Tokenize the sentences into sets of unique words\n",
    "dataset['tokenized_text'] = dataset['comment'].str.split().apply(set)\n",
    "\n",
    "# Initialize the pattern matrix\n",
    "pattern_matrix = pd.DataFrame(0, index=dataset.index, columns=final_pattern_df['Patterns'])\n",
    "\n",
    "# Iterate over each pattern and check if all words in the pattern are present in the tokenized sentence\n",
    "for pattern in final_pattern_df['Patterns']:\n",
    "    pattern_words = set(pattern.split())  # Tokenize pattern into words\n",
    "    pattern_matrix[pattern] = dataset['tokenized_text'].apply(lambda x: 1 if pattern_words.issubset(x) else 0)\n",
    "\n",
    "# Convert the DTM to a DataFrame for easy merging\n",
    "dtm_df = pd.DataFrame(dataset_dtm.toarray(), columns=terms, index=dataset.index)\n",
    "\n",
    "# Concatenate the original TDM and the pattern matrix to augment the features\n",
    "augmented_df = pd.concat([dtm_df, pattern_matrix], axis=1)\n",
    "\n",
    "augmented_df"
   ]
  },
  {
   "cell_type": "markdown",
   "metadata": {},
   "source": [
    "## 3.4 Visualization with Dimensionality Reduction\n",
    "We could use dimensionality reduction tools, like t-SNE, to help us see the similarity of the data."
   ]
  },
  {
   "cell_type": "code",
   "execution_count": 186,
   "metadata": {},
   "outputs": [
    {
     "data": {
      "image/png": "[encoded data removed]",
      "text/plain": [
       "<Figure size 1000x1000 with 1 Axes>"
      ]
     },
     "metadata": {},
     "output_type": "display_data"
    }
   ],
   "source": [
    "# calculate the t-SNE for the DTM\n",
    "dtm_tsne = TSNE(n_components=2).fit_transform(augmented_df.values)\n",
    "# get the cate\n",
    "categories = dataset['sentiment'].unique() \n",
    "plt.figure(figsize=(10, 10))\n",
    "\n",
    "for category in categories:\n",
    "    plt.scatter(\n",
    "        dtm_tsne[dataset['sentiment'] == category].T[0],\n",
    "        dtm_tsne[dataset['sentiment'] == category].T[1],\n",
    "        marker='o',\n",
    "        label=category,\n",
    "    )\n",
    "\n",
    "plt.xlabel('X')\n",
    "plt.ylabel('Y')\n",
    "plt.legend(loc='upper right')\n",
    "\n",
    "plt.show()"
   ]
  },
  {
   "cell_type": "markdown",
   "metadata": {},
   "source": [
    "## 3.5 Binarization\n",
    "To make our category could fit most classification algorithm, we can do the binarization."
   ]
  },
  {
   "cell_type": "code",
   "execution_count": 187,
   "metadata": {},
   "outputs": [
    {
     "data": {
      "text/html": [
       "<div>\n",
       "<style scoped>\n",
       "    .dataframe tbody tr th:only-of-type {\n",
       "        vertical-align: middle;\n",
       "    }\n",
       "\n",
       "    .dataframe tbody tr th {\n",
       "        vertical-align: top;\n",
       "    }\n",
       "\n",
       "    .dataframe thead th {\n",
       "        text-align: right;\n",
       "    }\n",
       "</style>\n",
       "<table border=\"1\" class=\"dataframe\">\n",
       "  <thead>\n",
       "    <tr style=\"text-align: right;\">\n",
       "      <th></th>\n",
       "      <th>sentiment</th>\n",
       "      <th>comment</th>\n",
       "      <th>token</th>\n",
       "      <th>tokenized_text</th>\n",
       "      <th>label</th>\n",
       "    </tr>\n",
       "  </thead>\n",
       "  <tbody>\n",
       "    <tr>\n",
       "      <th>0</th>\n",
       "      <td>not nostalgia</td>\n",
       "      <td>He was a singer with a golden voice that I lov...</td>\n",
       "      <td>[He, was, a, singer, with, a, golden, voice, t...</td>\n",
       "      <td>{voice, I, Although, his, time., singers, now,...</td>\n",
       "      <td>1</td>\n",
       "    </tr>\n",
       "    <tr>\n",
       "      <th>1</th>\n",
       "      <td>nostalgia</td>\n",
       "      <td>The mist beautiful voice ever I listened to hi...</td>\n",
       "      <td>[The, mist, beautiful, voice, ever, I, listene...</td>\n",
       "      <td>{voice, I, his, Never, a, love, The, ever, sti...</td>\n",
       "      <td>0</td>\n",
       "    </tr>\n",
       "    <tr>\n",
       "      <th>2</th>\n",
       "      <td>nostalgia</td>\n",
       "      <td>I have most of Mr. Reeves songs.  Always love ...</td>\n",
       "      <td>[I, have, most, of, Mr., Reeves, songs, ., Alw...</td>\n",
       "      <td>{like, loving, I, but, his, were, grew, 17., g...</td>\n",
       "      <td>0</td>\n",
       "    </tr>\n",
       "    <tr>\n",
       "      <th>3</th>\n",
       "      <td>not nostalgia</td>\n",
       "      <td>30 day leave from 1st tour in Viet Nam to conv...</td>\n",
       "      <td>[30, day, leave, from, 1st, tour, in, Viet, Na...</td>\n",
       "      <td>{47, I, granted, blessing, life, 1st, are, fro...</td>\n",
       "      <td>1</td>\n",
       "    </tr>\n",
       "    <tr>\n",
       "      <th>4</th>\n",
       "      <td>nostalgia</td>\n",
       "      <td>listening to his songs reminds me of my mum wh...</td>\n",
       "      <td>[listening, to, his, songs, reminds, me, of, m...</td>\n",
       "      <td>{mum, his, listening, me, everyday, who, to, r...</td>\n",
       "      <td>0</td>\n",
       "    </tr>\n",
       "    <tr>\n",
       "      <th>...</th>\n",
       "      <td>...</td>\n",
       "      <td>...</td>\n",
       "      <td>...</td>\n",
       "      <td>...</td>\n",
       "      <td>...</td>\n",
       "    </tr>\n",
       "    <tr>\n",
       "      <th>1494</th>\n",
       "      <td>not nostalgia</td>\n",
       "      <td>i don't know!..but the opening of the video,.....</td>\n",
       "      <td>[i, do, n't, know, !, .., but, the, opening, o...</td>\n",
       "      <td>{Simmons, going, that, as, him,..would, thing,...</td>\n",
       "      <td>1</td>\n",
       "    </tr>\n",
       "    <tr>\n",
       "      <th>1495</th>\n",
       "      <td>not nostalgia</td>\n",
       "      <td>it's sad this is such a beautiful song when yo...</td>\n",
       "      <td>[it, 's, sad, this, is, such, a, beautiful, so...</td>\n",
       "      <td>{feel.., really, sad, a, song, love, this, how...</td>\n",
       "      <td>1</td>\n",
       "    </tr>\n",
       "    <tr>\n",
       "      <th>1496</th>\n",
       "      <td>not nostalgia</td>\n",
       "      <td>Dear Friend, I think age and time is not that ...</td>\n",
       "      <td>[Dear, Friend, ,, I, think, age, and, time, is...</td>\n",
       "      <td>{like, I, comes, think, that, this, not, time,...</td>\n",
       "      <td>1</td>\n",
       "    </tr>\n",
       "    <tr>\n",
       "      <th>1497</th>\n",
       "      <td>nostalgia</td>\n",
       "      <td>I was born in 1954 and started to be aware of ...</td>\n",
       "      <td>[I, was, born, in, 1954, and, started, to, be,...</td>\n",
       "      <td>{voice, I, presentation,, his, really, and,, o...</td>\n",
       "      <td>0</td>\n",
       "    </tr>\n",
       "    <tr>\n",
       "      <th>1498</th>\n",
       "      <td>nostalgia</td>\n",
       "      <td>This is the first CD I bought after my marriag...</td>\n",
       "      <td>[This, is, the, first, CD, I, bought, after, m...</td>\n",
       "      <td>{I, 21, bought, 28, windows, later, rolled, tu...</td>\n",
       "      <td>0</td>\n",
       "    </tr>\n",
       "  </tbody>\n",
       "</table>\n",
       "<p>1499 rows × 5 columns</p>\n",
       "</div>"
      ],
      "text/plain": [
       "          sentiment                                            comment  \\\n",
       "0     not nostalgia  He was a singer with a golden voice that I lov...   \n",
       "1         nostalgia  The mist beautiful voice ever I listened to hi...   \n",
       "2         nostalgia  I have most of Mr. Reeves songs.  Always love ...   \n",
       "3     not nostalgia  30 day leave from 1st tour in Viet Nam to conv...   \n",
       "4         nostalgia  listening to his songs reminds me of my mum wh...   \n",
       "...             ...                                                ...   \n",
       "1494  not nostalgia  i don't know!..but the opening of the video,.....   \n",
       "1495  not nostalgia  it's sad this is such a beautiful song when yo...   \n",
       "1496  not nostalgia  Dear Friend, I think age and time is not that ...   \n",
       "1497      nostalgia  I was born in 1954 and started to be aware of ...   \n",
       "1498      nostalgia  This is the first CD I bought after my marriag...   \n",
       "\n",
       "                                                  token  \\\n",
       "0     [He, was, a, singer, with, a, golden, voice, t...   \n",
       "1     [The, mist, beautiful, voice, ever, I, listene...   \n",
       "2     [I, have, most, of, Mr., Reeves, songs, ., Alw...   \n",
       "3     [30, day, leave, from, 1st, tour, in, Viet, Na...   \n",
       "4     [listening, to, his, songs, reminds, me, of, m...   \n",
       "...                                                 ...   \n",
       "1494  [i, do, n't, know, !, .., but, the, opening, o...   \n",
       "1495  [it, 's, sad, this, is, such, a, beautiful, so...   \n",
       "1496  [Dear, Friend, ,, I, think, age, and, time, is...   \n",
       "1497  [I, was, born, in, 1954, and, started, to, be,...   \n",
       "1498  [This, is, the, first, CD, I, bought, after, m...   \n",
       "\n",
       "                                         tokenized_text  label  \n",
       "0     {voice, I, Although, his, time., singers, now,...      1  \n",
       "1     {voice, I, his, Never, a, love, The, ever, sti...      0  \n",
       "2     {like, loving, I, but, his, were, grew, 17., g...      0  \n",
       "3     {47, I, granted, blessing, life, 1st, are, fro...      1  \n",
       "4     {mum, his, listening, me, everyday, who, to, r...      0  \n",
       "...                                                 ...    ...  \n",
       "1494  {Simmons, going, that, as, him,..would, thing,...      1  \n",
       "1495  {feel.., really, sad, a, song, love, this, how...      1  \n",
       "1496  {like, I, comes, think, that, this, not, time,...      1  \n",
       "1497  {voice, I, presentation,, his, really, and,, o...      0  \n",
       "1498  {I, 21, bought, 28, windows, later, rolled, tu...      0  \n",
       "\n",
       "[1499 rows x 5 columns]"
      ]
     },
     "metadata": {},
     "output_type": "display_data"
    }
   ],
   "source": [
    "mlb = preprocessing.LabelBinarizer()\n",
    "mlb.fit(dataset['sentiment'])\n",
    "dataset['label'] = mlb.transform(dataset['sentiment'])\n",
    "\n",
    "display(dataset)"
   ]
  },
  {
   "cell_type": "markdown",
   "metadata": {},
   "source": [
    "# 4. Data Classification"
   ]
  },
  {
   "cell_type": "markdown",
   "metadata": {},
   "source": [
    "## 4.1 Split the Dataset"
   ]
  },
  {
   "cell_type": "code",
   "execution_count": 188,
   "metadata": {},
   "outputs": [],
   "source": [
    "# Create a mapping from numerical labels to category names\n",
    "category_mapping = dict(dataset[['label', 'sentiment']].drop_duplicates().values)\n",
    "\n",
    "# Convert the numerical category labels to text labels\n",
    "target_names = [category_mapping[label] for label in sorted(category_mapping.keys())]\n",
    "\n",
    "# Split the data into training and testing sets (70% train, 30% test)\n",
    "data_train, data_test, label_train, label_test = train_test_split(augmented_df, dataset['label'], test_size=0.3, random_state=42)"
   ]
  },
  {
   "cell_type": "markdown",
   "metadata": {},
   "source": [
    "## 4.2 Run Naive Bayes Classifier\n",
    "1. Run by MultinomialNB\n",
    "2. Run by BeroulliNB"
   ]
  },
  {
   "cell_type": "code",
   "execution_count": 189,
   "metadata": {},
   "outputs": [
    {
     "name": "stdout",
     "output_type": "stream",
     "text": [
      "Accuracy: 0.8822222222222222\n",
      "\n",
      "Classification Report:\n",
      "                precision    recall  f1-score   support\n",
      "\n",
      "    nostalgia     0.8333    0.9657    0.8946       233\n",
      "not nostalgia     0.9556    0.7926    0.8665       217\n",
      "\n",
      "     accuracy                         0.8822       450\n",
      "    macro avg     0.8944    0.8791    0.8806       450\n",
      " weighted avg     0.8923    0.8822    0.8811       450\n",
      "\n"
     ]
    }
   ],
   "source": [
    "# Train the Multinomial Naive Bayes classifier\n",
    "nb_classifier = MultinomialNB()\n",
    "nb_classifier.fit(data_train, label_train)\n",
    "\n",
    "# Make predictions on the test set\n",
    "label_pred = nb_classifier.predict(data_test)\n",
    "\n",
    "# Evaluate the classifier\n",
    "print(\"Accuracy:\", accuracy_score(label_test, label_pred))\n",
    "print(\"\\nClassification Report:\\n\", classification_report(label_test, label_pred, target_names=target_names, digits=4))"
   ]
  },
  {
   "cell_type": "code",
   "execution_count": 190,
   "metadata": {},
   "outputs": [
    {
     "name": "stdout",
     "output_type": "stream",
     "text": [
      "Accuracy: 0.9022222222222223\n",
      "\n",
      "Classification Report:\n",
      "                precision    recall  f1-score   support\n",
      "\n",
      "    nostalgia     0.8857    0.9313    0.9079       233\n",
      "not nostalgia     0.9220    0.8710    0.8957       217\n",
      "\n",
      "     accuracy                         0.9022       450\n",
      "    macro avg     0.9038    0.9011    0.9018       450\n",
      " weighted avg     0.9032    0.9022    0.9021       450\n",
      "\n"
     ]
    }
   ],
   "source": [
    "# Train the Bernoulli Naive Bayes classifier\n",
    "nb_classifier = BernoulliNB()\n",
    "nb_classifier.fit(data_train, label_train)\n",
    "\n",
    "# Make predictions on the test set\n",
    "label_pred = nb_classifier.predict(data_test)\n",
    "\n",
    "# Evaluate the classifier\n",
    "print(\"Accuracy:\", accuracy_score(label_test, label_pred))\n",
    "print(\"\\nClassification Report:\\n\", classification_report(label_test, label_pred, target_names=target_names, digits=4))"
   ]
  },
  {
   "cell_type": "markdown",
   "metadata": {},
   "source": [
    "# 5. Using TF-IDF\n",
    "**(Only do crucial steps and briefly describe my setting. Because most parts are similar with using document-term matrix.)**"
   ]
  },
  {
   "cell_type": "markdown",
   "metadata": {},
   "source": [
    "## 5.1 Preprocessing\n",
    "1. Feature Subset Selection\n",
    "2. Aggregation"
   ]
  },
  {
   "cell_type": "code",
   "execution_count": 191,
   "metadata": {},
   "outputs": [
    {
     "data": {
      "image/png": "[encoded data removed]",
      "text/plain": [
       "<Figure size 900x700 with 2 Axes>"
      ]
     },
     "metadata": {},
     "output_type": "display_data"
    }
   ],
   "source": [
    "# Generate the TF-IDF matrix for the dataset\n",
    "tfidf_vectorizer = TfidfVectorizer()\n",
    "dataset_tfidf = tfidf_vectorizer.fit_transform(dataset['comment'])\n",
    "\n",
    "# Visulize the first 100*100 elements of dataset_tfidf\n",
    "plt.figure(figsize=(9, 7))\n",
    "sns.heatmap(\n",
    "    dataset_tfidf[:100, :100].toarray(),\n",
    "    cmap=\"coolwarm\",\n",
    "    vmin=0,\n",
    "    vmax=1,\n",
    "    xticklabels = False, \n",
    "    yticklabels = False\n",
    ")\n",
    "plt.show()"
   ]
  },
  {
   "cell_type": "code",
   "execution_count": 192,
   "metadata": {},
   "outputs": [
    {
     "data": {
      "application/vnd.plotly.v1+json": {
       "config": {
        "plotlyServerURL": "https://plot.ly"
       },
       "data": [
        {
         "alignmentgroup": "True",
         "hovertemplate": "Term=%{x}<br>Total TF-IDF=%{y}<extra></extra>",
         "legendgroup": "",
         "marker": {
          "color": "#636efa",
          "pattern": {
           "shape": ""
          }
         },
         "name": "",
         "offsetgroup": "",
         "orientation": "v",
         "showlegend": false,
         "textposition": "auto",
         "type": "bar",
         "x": [
          "the",
          "this",
          "to",
          "song",
          "my",
          "and",
          "of",
          "it",
          "was",
          "in",
          "me",
          "you",
          "back",
          "is",
          "love",
          "memories",
          "so",
          "that",
          "when",
          "music",
          "for",
          "great",
          "time",
          "beautiful",
          "on",
          "with",
          "all",
          "years",
          "old",
          "songs",
          "like",
          "have",
          "but",
          "he",
          "good",
          "one",
          "brings",
          "as",
          "always",
          "voice",
          "just",
          "her",
          "what",
          "remember",
          "from",
          "can",
          "days",
          "she",
          "childhood",
          "we",
          "now",
          "not",
          "many",
          "be",
          "much",
          "at",
          "reminds",
          "still",
          "his",
          "best",
          "they",
          "miss",
          "listening",
          "will",
          "thank",
          "am",
          "very",
          "never",
          "are",
          "really",
          "these",
          "listen",
          "up",
          "ever",
          "first",
          "had",
          "how",
          "him",
          "those",
          "loved",
          "hear",
          "dad",
          "who",
          "young",
          "only",
          "heard",
          "sing",
          "could",
          "out",
          "about",
          "no",
          "times",
          "were",
          "every",
          "more",
          "would",
          "there",
          "by",
          "know",
          "some",
          "thanks",
          "life",
          "wish",
          "such",
          "happy",
          "has",
          "then",
          "used",
          "an",
          "today",
          "if",
          "school",
          "day",
          "wonderful",
          "favorite",
          "singer",
          "makes",
          "don",
          "singing",
          "again",
          "played",
          "sad",
          "world",
          "heart",
          "too",
          "takes",
          "go",
          "think",
          "come",
          "over",
          "get",
          "do",
          "most",
          "mom",
          "nice",
          "play",
          "little",
          "wow",
          "them",
          "ago",
          "your",
          "here",
          "man",
          "version",
          "people",
          "been",
          "classic",
          "make",
          "real",
          "way",
          "video",
          "did",
          "better",
          "bring",
          "lovely",
          "radio",
          "came",
          "well",
          "feel",
          "got",
          "country",
          "its",
          "or",
          "than",
          "our",
          "god",
          "kid",
          "lyrics",
          "fantastic",
          "nostalgic",
          "why",
          "mum",
          "after",
          "made",
          "girl",
          "passed",
          "because",
          "forever",
          "long",
          "memory",
          "jim",
          "age",
          "us",
          "2019",
          "tears",
          "away",
          "child",
          "see",
          "elvis",
          "their",
          "year",
          "parents",
          "oh",
          "amazing",
          "eyes",
          "live",
          "before",
          "kind",
          "cry",
          "dance",
          "sweet",
          "lot",
          "60",
          "where",
          "being",
          "tune",
          "any",
          "friend",
          "another",
          "take",
          "early",
          "name",
          "reeves",
          "listened",
          "want",
          "feeling",
          "70",
          "even",
          "should",
          "playing",
          "words",
          "record",
          "nostalgia",
          "someone",
          "singers",
          "say",
          "greatest",
          "father",
          "brought",
          "grew",
          "teenager",
          "high",
          "80",
          "once",
          "hit",
          "right",
          "ve",
          "yesterday",
          "since",
          "sure",
          "gone",
          "brilliant",
          "yes",
          "awesome",
          "anyone",
          "please",
          "new",
          "anymore",
          "didn",
          "sang",
          "few",
          "last",
          "around",
          "true",
          "died",
          "born",
          "dancing",
          "thought",
          "past",
          "70s",
          "80s",
          "hearing",
          "sounds",
          "missed",
          "same",
          "romantic",
          "youtube",
          "find",
          "50",
          "into",
          "sound",
          "mother",
          "boy",
          "nothing",
          "look",
          "which",
          "lol",
          "era",
          "something",
          "understand",
          "bless",
          "posting",
          "lady",
          "late",
          "almost",
          "family",
          "guy",
          "mind",
          "youth",
          "sister",
          "original",
          "pop",
          "rock",
          "down",
          "soul",
          "remind",
          "timeless",
          "60s",
          "16",
          "during"
         ],
         "xaxis": "x",
         "y": [
          92.79898675811431,
          79.30316907194127,
          74.0954956870735,
          71.21314801605845,
          70.70570404628481,
          69.53438043624959,
          64.27150850418431,
          57.15223225685545,
          55.961989700959236,
          53.354818922909665,
          48.842676920755416,
          43.99211616974273,
          43.235208934724135,
          42.0992152351071,
          41.25860275092276,
          40.900291700249575,
          38.46040952171623,
          38.04502923740072,
          36.37271497272245,
          35.47262088287611,
          33.02977115132502,
          30.376730507560225,
          30.267746174924007,
          29.416134270673876,
          28.132289370004727,
          27.427803154063675,
          25.56443496040805,
          24.95669486332091,
          24.8264834898477,
          24.569342093872795,
          24.433978317649153,
          23.90296756674781,
          23.87888328833035,
          23.486026199720612,
          23.398471577570238,
          23.360026591271517,
          23.29501846705492,
          22.386319065273653,
          22.13511906928733,
          22.067800917771066,
          22.006976482206394,
          21.778321064878718,
          21.014134326139054,
          20.929943939541015,
          20.60466120787415,
          20.516125759855967,
          20.40210794027393,
          20.125395088662685,
          20.093603957293322,
          19.654461662315377,
          19.413858370119744,
          19.234641592620207,
          19.139933268184315,
          19.125076143226433,
          18.798187061219203,
          18.61084598451865,
          18.33082092258868,
          18.085435883709398,
          18.037544895488363,
          18.035693783265646,
          17.79378900456853,
          17.613561970524827,
          17.377241102439527,
          17.14886687138843,
          16.665183409029428,
          16.35563739164966,
          16.15615626169375,
          15.893159987548925,
          15.745510517459397,
          15.668920445070952,
          15.657692529433998,
          15.618941015957292,
          15.192817348007244,
          15.118720185865817,
          15.097961337121303,
          15.043681872843278,
          14.92301088503538,
          14.563093804446149,
          14.448518694197451,
          14.096794996586175,
          14.094182133558308,
          13.847420613156055,
          13.829743337330427,
          13.763567697508151,
          13.463034633825348,
          13.41194648721552,
          13.365401919958334,
          13.302450357354973,
          13.151664400683714,
          12.885073095960923,
          12.8147401571516,
          12.804370219732128,
          12.733393669894138,
          12.594547539016375,
          12.55633650728705,
          12.384218753054576,
          12.229663013081863,
          12.213682767306057,
          12.135332813102742,
          11.975749556507916,
          11.912715042056238,
          11.72558542686633,
          11.592408091965734,
          11.45535307794107,
          11.417792779779218,
          11.387132482117744,
          11.186587992156033,
          11.083525802756816,
          11.005028021967416,
          10.933770706329762,
          10.807510901009579,
          10.784645130455356,
          10.764591553419537,
          10.62774742030442,
          10.618857210396069,
          10.602963891945702,
          10.511831929164739,
          10.46586006774801,
          10.384277972331976,
          10.355419141799391,
          10.25342488089651,
          10.177823664915797,
          9.901443883797233,
          9.654032626151498,
          9.550772602872916,
          9.483794379552787,
          9.479139449324528,
          9.443571221401582,
          9.398732489033897,
          9.334778330614848,
          9.294282265948237,
          9.200644841550213,
          9.174186462803899,
          9.150720886091058,
          9.096555517442331,
          8.996557516177432,
          8.976294472361865,
          8.943021613493045,
          8.898522796229171,
          8.85691740633504,
          8.826743016220822,
          8.806406985711359,
          8.646314818903905,
          8.641760479830502,
          8.591962007062445,
          8.509019255918478,
          8.506448758532752,
          8.496379206555932,
          8.374335146640675,
          8.35579693886037,
          8.163008706291214,
          8.140680402230974,
          8.101752102496421,
          8.09840403907615,
          8.06088574093065,
          8.007060376008543,
          7.878874963130945,
          7.867189264876596,
          7.8446196778276995,
          7.834075254492462,
          7.7906535832574075,
          7.786242104844203,
          7.785782297046951,
          7.753896368838806,
          7.57748932043931,
          7.429521704739158,
          7.4141534487196905,
          7.371368631811129,
          7.3637533330750395,
          7.177962074096002,
          7.142564192225404,
          7.070318785964032,
          7.067817895387008,
          7.025101248210194,
          7.0030616683223395,
          6.936596472554892,
          6.914797082461526,
          6.90004503656008,
          6.852947331657245,
          6.826256092282624,
          6.794452739706861,
          6.759312684887917,
          6.734669038521591,
          6.69144016472973,
          6.675687995579368,
          6.652252299162328,
          6.6250939589044275,
          6.589762136376711,
          6.57839936149433,
          6.463793983534913,
          6.463365362298068,
          6.46136723322244,
          6.391594434133929,
          6.387117169430667,
          6.377616155992246,
          6.36062053737551,
          6.354815217127931,
          6.341248722611561,
          6.336566813960601,
          6.3316143581984745,
          6.2720372004269365,
          6.26713311659999,
          6.225854939516342,
          6.115535667321527,
          6.101755049675847,
          6.0157904994595475,
          5.992266466273554,
          5.863910246461457,
          5.794386564719771,
          5.640690233593691,
          5.62762674939324,
          5.619741262083708,
          5.547979288359799,
          5.466487139277751,
          5.464551793743534,
          5.462825432572085,
          5.413878852925809,
          5.334327658447585,
          5.327767958072384,
          5.266129788753123,
          5.262610437209509,
          5.178540573152114,
          5.164433707995247,
          5.156546409430402,
          5.143340299303561,
          5.120351512749747,
          5.103577505351441,
          5.091423517650987,
          5.085435631392553,
          5.074291277912621,
          5.06160824393279,
          5.0258449691705716,
          4.972181523296491,
          4.9688486277401,
          4.896390018896214,
          4.884096443948726,
          4.878331616554697,
          4.83879059048546,
          4.834266884430316,
          4.8177201995955805,
          4.813091080723567,
          4.804412262739905,
          4.7892845549416965,
          4.780875365060836,
          4.780780450458302,
          4.771002591184796,
          4.766764521034623,
          4.764839389793311,
          4.742956762776886,
          4.717140807693611,
          4.715041127493718,
          4.686564204186613,
          4.6687312760576525,
          4.658027491834744,
          4.655929103552955,
          4.623588816966663,
          4.61856131901178,
          4.618355241895414,
          4.581738957491785,
          4.519298143279359,
          4.506633592279846,
          4.501519184315023,
          4.49164177307363,
          4.478504315781428,
          4.475322400523707,
          4.468176287982987,
          4.45211774772379,
          4.444188737396119,
          4.412878930547116,
          4.399494763990987,
          4.39537095969372,
          4.379876619496152,
          4.376404101226059,
          4.30776750718672,
          4.261132225782747,
          4.23796994447115,
          4.2301304087811555,
          4.219457691909449,
          4.218362734420632,
          4.162490641305109,
          4.153440133371526,
          4.141571553801139,
          4.141494609595137,
          4.139721693300866,
          4.137125416561162,
          4.097973803936469,
          4.092879353627365,
          4.001124264550047,
          3.9648556880773964,
          3.9576695801650925,
          3.9546160876262793,
          3.9377806582703085,
          3.9184256323238977,
          3.909900460123815,
          3.859710694695834,
          3.8557276965619955,
          3.8467454606074845,
          3.844543858764106,
          3.805865260146186,
          3.804624205318262
         ],
         "yaxis": "y"
        }
       ],
       "layout": {
        "barmode": "relative",
        "legend": {
         "tracegroupgap": 0
        },
        "margin": {
         "t": 60
        },
        "template": {
         "data": {
          "bar": [
           {
            "error_x": {
             "color": "#2a3f5f"
            },
            "error_y": {
             "color": "#2a3f5f"
            },
            "marker": {
             "line": {
              "color": "#E5ECF6",
              "width": 0.5
             },
             "pattern": {
              "fillmode": "overlay",
              "size": 10,
              "solidity": 0.2
             }
            },
            "type": "bar"
           }
          ],
          "barpolar": [
           {
            "marker": {
             "line": {
              "color": "#E5ECF6",
              "width": 0.5
             },
             "pattern": {
              "fillmode": "overlay",
              "size": 10,
              "solidity": 0.2
             }
            },
            "type": "barpolar"
           }
          ],
          "carpet": [
           {
            "aaxis": {
             "endlinecolor": "#2a3f5f",
             "gridcolor": "white",
             "linecolor": "white",
             "minorgridcolor": "white",
             "startlinecolor": "#2a3f5f"
            },
            "baxis": {
             "endlinecolor": "#2a3f5f",
             "gridcolor": "white",
             "linecolor": "white",
             "minorgridcolor": "white",
             "startlinecolor": "#2a3f5f"
            },
            "type": "carpet"
           }
          ],
          "choropleth": [
           {
            "colorbar": {
             "outlinewidth": 0,
             "ticks": ""
            },
            "type": "choropleth"
           }
          ],
          "contour": [
           {
            "colorbar": {
             "outlinewidth": 0,
             "ticks": ""
            },
            "colorscale": [
             [
              0,
              "#0d0887"
             ],
             [
              0.1111111111111111,
              "#46039f"
             ],
             [
              0.2222222222222222,
              "#7201a8"
             ],
             [
              0.3333333333333333,
              "#9c179e"
             ],
             [
              0.4444444444444444,
              "#bd3786"
             ],
             [
              0.5555555555555556,
              "#d8576b"
             ],
             [
              0.6666666666666666,
              "#ed7953"
             ],
             [
              0.7777777777777778,
              "#fb9f3a"
             ],
             [
              0.8888888888888888,
              "#fdca26"
             ],
             [
              1,
              "#f0f921"
             ]
            ],
            "type": "contour"
           }
          ],
          "contourcarpet": [
           {
            "colorbar": {
             "outlinewidth": 0,
             "ticks": ""
            },
            "type": "contourcarpet"
           }
          ],
          "heatmap": [
           {
            "colorbar": {
             "outlinewidth": 0,
             "ticks": ""
            },
            "colorscale": [
             [
              0,
              "#0d0887"
             ],
             [
              0.1111111111111111,
              "#46039f"
             ],
             [
              0.2222222222222222,
              "#7201a8"
             ],
             [
              0.3333333333333333,
              "#9c179e"
             ],
             [
              0.4444444444444444,
              "#bd3786"
             ],
             [
              0.5555555555555556,
              "#d8576b"
             ],
             [
              0.6666666666666666,
              "#ed7953"
             ],
             [
              0.7777777777777778,
              "#fb9f3a"
             ],
             [
              0.8888888888888888,
              "#fdca26"
             ],
             [
              1,
              "#f0f921"
             ]
            ],
            "type": "heatmap"
           }
          ],
          "heatmapgl": [
           {
            "colorbar": {
             "outlinewidth": 0,
             "ticks": ""
            },
            "colorscale": [
             [
              0,
              "#0d0887"
             ],
             [
              0.1111111111111111,
              "#46039f"
             ],
             [
              0.2222222222222222,
              "#7201a8"
             ],
             [
              0.3333333333333333,
              "#9c179e"
             ],
             [
              0.4444444444444444,
              "#bd3786"
             ],
             [
              0.5555555555555556,
              "#d8576b"
             ],
             [
              0.6666666666666666,
              "#ed7953"
             ],
             [
              0.7777777777777778,
              "#fb9f3a"
             ],
             [
              0.8888888888888888,
              "#fdca26"
             ],
             [
              1,
              "#f0f921"
             ]
            ],
            "type": "heatmapgl"
           }
          ],
          "histogram": [
           {
            "marker": {
             "pattern": {
              "fillmode": "overlay",
              "size": 10,
              "solidity": 0.2
             }
            },
            "type": "histogram"
           }
          ],
          "histogram2d": [
           {
            "colorbar": {
             "outlinewidth": 0,
             "ticks": ""
            },
            "colorscale": [
             [
              0,
              "#0d0887"
             ],
             [
              0.1111111111111111,
              "#46039f"
             ],
             [
              0.2222222222222222,
              "#7201a8"
             ],
             [
              0.3333333333333333,
              "#9c179e"
             ],
             [
              0.4444444444444444,
              "#bd3786"
             ],
             [
              0.5555555555555556,
              "#d8576b"
             ],
             [
              0.6666666666666666,
              "#ed7953"
             ],
             [
              0.7777777777777778,
              "#fb9f3a"
             ],
             [
              0.8888888888888888,
              "#fdca26"
             ],
             [
              1,
              "#f0f921"
             ]
            ],
            "type": "histogram2d"
           }
          ],
          "histogram2dcontour": [
           {
            "colorbar": {
             "outlinewidth": 0,
             "ticks": ""
            },
            "colorscale": [
             [
              0,
              "#0d0887"
             ],
             [
              0.1111111111111111,
              "#46039f"
             ],
             [
              0.2222222222222222,
              "#7201a8"
             ],
             [
              0.3333333333333333,
              "#9c179e"
             ],
             [
              0.4444444444444444,
              "#bd3786"
             ],
             [
              0.5555555555555556,
              "#d8576b"
             ],
             [
              0.6666666666666666,
              "#ed7953"
             ],
             [
              0.7777777777777778,
              "#fb9f3a"
             ],
             [
              0.8888888888888888,
              "#fdca26"
             ],
             [
              1,
              "#f0f921"
             ]
            ],
            "type": "histogram2dcontour"
           }
          ],
          "mesh3d": [
           {
            "colorbar": {
             "outlinewidth": 0,
             "ticks": ""
            },
            "type": "mesh3d"
           }
          ],
          "parcoords": [
           {
            "line": {
             "colorbar": {
              "outlinewidth": 0,
              "ticks": ""
             }
            },
            "type": "parcoords"
           }
          ],
          "pie": [
           {
            "automargin": true,
            "type": "pie"
           }
          ],
          "scatter": [
           {
            "fillpattern": {
             "fillmode": "overlay",
             "size": 10,
             "solidity": 0.2
            },
            "type": "scatter"
           }
          ],
          "scatter3d": [
           {
            "line": {
             "colorbar": {
              "outlinewidth": 0,
              "ticks": ""
             }
            },
            "marker": {
             "colorbar": {
              "outlinewidth": 0,
              "ticks": ""
             }
            },
            "type": "scatter3d"
           }
          ],
          "scattercarpet": [
           {
            "marker": {
             "colorbar": {
              "outlinewidth": 0,
              "ticks": ""
             }
            },
            "type": "scattercarpet"
           }
          ],
          "scattergeo": [
           {
            "marker": {
             "colorbar": {
              "outlinewidth": 0,
              "ticks": ""
             }
            },
            "type": "scattergeo"
           }
          ],
          "scattergl": [
           {
            "marker": {
             "colorbar": {
              "outlinewidth": 0,
              "ticks": ""
             }
            },
            "type": "scattergl"
           }
          ],
          "scattermapbox": [
           {
            "marker": {
             "colorbar": {
              "outlinewidth": 0,
              "ticks": ""
             }
            },
            "type": "scattermapbox"
           }
          ],
          "scatterpolar": [
           {
            "marker": {
             "colorbar": {
              "outlinewidth": 0,
              "ticks": ""
             }
            },
            "type": "scatterpolar"
           }
          ],
          "scatterpolargl": [
           {
            "marker": {
             "colorbar": {
              "outlinewidth": 0,
              "ticks": ""
             }
            },
            "type": "scatterpolargl"
           }
          ],
          "scatterternary": [
           {
            "marker": {
             "colorbar": {
              "outlinewidth": 0,
              "ticks": ""
             }
            },
            "type": "scatterternary"
           }
          ],
          "surface": [
           {
            "colorbar": {
             "outlinewidth": 0,
             "ticks": ""
            },
            "colorscale": [
             [
              0,
              "#0d0887"
             ],
             [
              0.1111111111111111,
              "#46039f"
             ],
             [
              0.2222222222222222,
              "#7201a8"
             ],
             [
              0.3333333333333333,
              "#9c179e"
             ],
             [
              0.4444444444444444,
              "#bd3786"
             ],
             [
              0.5555555555555556,
              "#d8576b"
             ],
             [
              0.6666666666666666,
              "#ed7953"
             ],
             [
              0.7777777777777778,
              "#fb9f3a"
             ],
             [
              0.8888888888888888,
              "#fdca26"
             ],
             [
              1,
              "#f0f921"
             ]
            ],
            "type": "surface"
           }
          ],
          "table": [
           {
            "cells": {
             "fill": {
              "color": "#EBF0F8"
             },
             "line": {
              "color": "white"
             }
            },
            "header": {
             "fill": {
              "color": "#C8D4E3"
             },
             "line": {
              "color": "white"
             }
            },
            "type": "table"
           }
          ]
         },
         "layout": {
          "annotationdefaults": {
           "arrowcolor": "#2a3f5f",
           "arrowhead": 0,
           "arrowwidth": 1
          },
          "autotypenumbers": "strict",
          "coloraxis": {
           "colorbar": {
            "outlinewidth": 0,
            "ticks": ""
           }
          },
          "colorscale": {
           "diverging": [
            [
             0,
             "#8e0152"
            ],
            [
             0.1,
             "#c51b7d"
            ],
            [
             0.2,
             "#de77ae"
            ],
            [
             0.3,
             "#f1b6da"
            ],
            [
             0.4,
             "#fde0ef"
            ],
            [
             0.5,
             "#f7f7f7"
            ],
            [
             0.6,
             "#e6f5d0"
            ],
            [
             0.7,
             "#b8e186"
            ],
            [
             0.8,
             "#7fbc41"
            ],
            [
             0.9,
             "#4d9221"
            ],
            [
             1,
             "#276419"
            ]
           ],
           "sequential": [
            [
             0,
             "#0d0887"
            ],
            [
             0.1111111111111111,
             "#46039f"
            ],
            [
             0.2222222222222222,
             "#7201a8"
            ],
            [
             0.3333333333333333,
             "#9c179e"
            ],
            [
             0.4444444444444444,
             "#bd3786"
            ],
            [
             0.5555555555555556,
             "#d8576b"
            ],
            [
             0.6666666666666666,
             "#ed7953"
            ],
            [
             0.7777777777777778,
             "#fb9f3a"
            ],
            [
             0.8888888888888888,
             "#fdca26"
            ],
            [
             1,
             "#f0f921"
            ]
           ],
           "sequentialminus": [
            [
             0,
             "#0d0887"
            ],
            [
             0.1111111111111111,
             "#46039f"
            ],
            [
             0.2222222222222222,
             "#7201a8"
            ],
            [
             0.3333333333333333,
             "#9c179e"
            ],
            [
             0.4444444444444444,
             "#bd3786"
            ],
            [
             0.5555555555555556,
             "#d8576b"
            ],
            [
             0.6666666666666666,
             "#ed7953"
            ],
            [
             0.7777777777777778,
             "#fb9f3a"
            ],
            [
             0.8888888888888888,
             "#fdca26"
            ],
            [
             1,
             "#f0f921"
            ]
           ]
          },
          "colorway": [
           "#636efa",
           "#EF553B",
           "#00cc96",
           "#ab63fa",
           "#FFA15A",
           "#19d3f3",
           "#FF6692",
           "#B6E880",
           "#FF97FF",
           "#FECB52"
          ],
          "font": {
           "color": "#2a3f5f"
          },
          "geo": {
           "bgcolor": "white",
           "lakecolor": "white",
           "landcolor": "#E5ECF6",
           "showlakes": true,
           "showland": true,
           "subunitcolor": "white"
          },
          "hoverlabel": {
           "align": "left"
          },
          "hovermode": "closest",
          "mapbox": {
           "style": "light"
          },
          "paper_bgcolor": "white",
          "plot_bgcolor": "#E5ECF6",
          "polar": {
           "angularaxis": {
            "gridcolor": "white",
            "linecolor": "white",
            "ticks": ""
           },
           "bgcolor": "#E5ECF6",
           "radialaxis": {
            "gridcolor": "white",
            "linecolor": "white",
            "ticks": ""
           }
          },
          "scene": {
           "xaxis": {
            "backgroundcolor": "#E5ECF6",
            "gridcolor": "white",
            "gridwidth": 2,
            "linecolor": "white",
            "showbackground": true,
            "ticks": "",
            "zerolinecolor": "white"
           },
           "yaxis": {
            "backgroundcolor": "#E5ECF6",
            "gridcolor": "white",
            "gridwidth": 2,
            "linecolor": "white",
            "showbackground": true,
            "ticks": "",
            "zerolinecolor": "white"
           },
           "zaxis": {
            "backgroundcolor": "#E5ECF6",
            "gridcolor": "white",
            "gridwidth": 2,
            "linecolor": "white",
            "showbackground": true,
            "ticks": "",
            "zerolinecolor": "white"
           }
          },
          "shapedefaults": {
           "line": {
            "color": "#2a3f5f"
           }
          },
          "ternary": {
           "aaxis": {
            "gridcolor": "white",
            "linecolor": "white",
            "ticks": ""
           },
           "baxis": {
            "gridcolor": "white",
            "linecolor": "white",
            "ticks": ""
           },
           "bgcolor": "#E5ECF6",
           "caxis": {
            "gridcolor": "white",
            "linecolor": "white",
            "ticks": ""
           }
          },
          "title": {
           "x": 0.05
          },
          "xaxis": {
           "automargin": true,
           "gridcolor": "white",
           "linecolor": "white",
           "ticks": "",
           "title": {
            "standoff": 15
           },
           "zerolinecolor": "white",
           "zerolinewidth": 2
          },
          "yaxis": {
           "automargin": true,
           "gridcolor": "white",
           "linecolor": "white",
           "ticks": "",
           "title": {
            "standoff": 15
           },
           "zerolinecolor": "white",
           "zerolinewidth": 2
          }
         }
        },
        "xaxis": {
         "anchor": "y",
         "domain": [
          0,
          1
         ],
         "title": {
          "text": "Terms"
         }
        },
        "yaxis": {
         "anchor": "x",
         "domain": [
          0,
          1
         ],
         "title": {
          "text": "Total TF-IDF"
         }
        }
       }
      }
     },
     "metadata": {},
     "output_type": "display_data"
    }
   ],
   "source": [
    "'''\n",
    "Count the total TD-IDF of each term in the dataset, \n",
    "then get the index from the highest to the lowest.\n",
    "'''\n",
    "tfidf_total = np.asarray(dataset_tfidf.sum(axis=0))[0]\n",
    "sorted_total_index = sorted(range(len(tfidf_total)), key=lambda k: tfidf_total[k], reverse=True)\n",
    "\n",
    "# Visulize for the first 300 frequent terms\n",
    "fig = px.bar(\n",
    "        x=tfidf_vectorizer.get_feature_names_out()[sorted_total_index[:300]],\n",
    "        y=tfidf_total[sorted_total_index[:300]],\n",
    "        labels={'x':'Term', 'y':'Total TF-IDF'},\n",
    ")\n",
    "fig.update_layout(xaxis_title=\"Terms\",\n",
    "                  yaxis_title=\"Total TF-IDF\")\n",
    "fig.show()\n"
   ]
  },
  {
   "cell_type": "markdown",
   "metadata": {},
   "source": [
    "## 5.2 Data Mining"
   ]
  },
  {
   "cell_type": "markdown",
   "metadata": {},
   "source": [
    "### 5.2.1 Separate Each Category"
   ]
  },
  {
   "cell_type": "code",
   "execution_count": 193,
   "metadata": {},
   "outputs": [],
   "source": [
    "# Create TF-IDF DataFrame for each category\n",
    "def create_TFIDF_df(df):\n",
    "    tfidf_vectorizer = TfidfVectorizer()\n",
    "    dataset_tfidf = tfidf_vectorizer.fit_transform(df['comment'])\n",
    "    \n",
    "    # Get the unique words (vocabulary) from the vectorizer\n",
    "    words = tfidf_vectorizer.get_feature_names_out()\n",
    "    \n",
    "    # Create a DataFrame where rows are documents and columns are words\n",
    "    TFIDF = pd.DataFrame(dataset_tfidf.toarray(), columns=words)\n",
    "    \n",
    "    return TFIDF\n",
    "\n",
    "# Create df for each category\n",
    "dfs = {}\n",
    "\n",
    "for category in categories:\n",
    "    dfs[category] = dataset[dataset['sentiment'] == category].copy()\n",
    "\n",
    "# Create TF-IDF DataFrames for each category\n",
    "tfidfs = {}\n",
    "\n",
    "for category in categories:\n",
    "    tfidfs[category] = create_TFIDF_df(dfs[category])"
   ]
  },
  {
   "cell_type": "code",
   "execution_count": 194,
   "metadata": {},
   "outputs": [
    {
     "data": {
      "text/plain": [
       "{'not nostalgia':       00  000  045   10  100  10m   11   12   14   15  ...  youngest  \\\n",
       " 0    0.0  0.0  0.0  0.0  0.0  0.0  0.0  0.0  0.0  0.0  ...       0.0   \n",
       " 1    0.0  0.0  0.0  0.0  0.0  0.0  0.0  0.0  0.0  0.0  ...       0.0   \n",
       " 2    0.0  0.0  0.0  0.0  0.0  0.0  0.0  0.0  0.0  0.0  ...       0.0   \n",
       " 3    0.0  0.0  0.0  0.0  0.0  0.0  0.0  0.0  0.0  0.0  ...       0.0   \n",
       " 4    0.0  0.0  0.0  0.0  0.0  0.0  0.0  0.0  0.0  0.0  ...       0.0   \n",
       " ..   ...  ...  ...  ...  ...  ...  ...  ...  ...  ...  ...       ...   \n",
       " 744  0.0  0.0  0.0  0.0  0.0  0.0  0.0  0.0  0.0  0.0  ...       0.0   \n",
       " 745  0.0  0.0  0.0  0.0  0.0  0.0  0.0  0.0  0.0  0.0  ...       0.0   \n",
       " 746  0.0  0.0  0.0  0.0  0.0  0.0  0.0  0.0  0.0  0.0  ...       0.0   \n",
       " 747  0.0  0.0  0.0  0.0  0.0  0.0  0.0  0.0  0.0  0.0  ...       0.0   \n",
       " 748  0.0  0.0  0.0  0.0  0.0  0.0  0.0  0.0  0.0  0.0  ...       0.0   \n",
       " \n",
       "      youngsters      your  yourself  youth  youtube  yrs  yuo  zealand  zulus  \n",
       " 0           0.0  0.000000       0.0    0.0      0.0  0.0  0.0      0.0    0.0  \n",
       " 1           0.0  0.000000       0.0    0.0      0.0  0.0  0.0      0.0    0.0  \n",
       " 2           0.0  0.000000       0.0    0.0      0.0  0.0  0.0      0.0    0.0  \n",
       " 3           0.0  0.000000       0.0    0.0      0.0  0.0  0.0      0.0    0.0  \n",
       " 4           0.0  0.000000       0.0    0.0      0.0  0.0  0.0      0.0    0.0  \n",
       " ..          ...       ...       ...    ...      ...  ...  ...      ...    ...  \n",
       " 744         0.0  0.000000       0.0    0.0      0.0  0.0  0.0      0.0    0.0  \n",
       " 745         0.0  0.000000       0.0    0.0      0.0  0.0  0.0      0.0    0.0  \n",
       " 746         0.0  0.000000       0.0    0.0      0.0  0.0  0.0      0.0    0.0  \n",
       " 747         0.0  0.244427       0.0    0.0      0.0  0.0  0.0      0.0    0.0  \n",
       " 748         0.0  0.000000       0.0    0.0      0.0  0.0  0.0      0.0    0.0  \n",
       " \n",
       " [749 rows x 2602 columns],\n",
       " 'nostalgia':       07   10   11  11th   12        13   14   15   16        17  ...  young  \\\n",
       " 0    0.0  0.0  0.0   0.0  0.0  0.000000  0.0  0.0  0.0  0.000000  ...    0.0   \n",
       " 1    0.0  0.0  0.0   0.0  0.0  0.000000  0.0  0.0  0.0  0.135932  ...    0.0   \n",
       " 2    0.0  0.0  0.0   0.0  0.0  0.000000  0.0  0.0  0.0  0.000000  ...    0.0   \n",
       " 3    0.0  0.0  0.0   0.0  0.0  0.000000  0.0  0.0  0.0  0.000000  ...    0.0   \n",
       " 4    0.0  0.0  0.0   0.0  0.0  0.000000  0.0  0.0  0.0  0.000000  ...    0.0   \n",
       " ..   ...  ...  ...   ...  ...       ...  ...  ...  ...       ...  ...    ...   \n",
       " 745  0.0  0.0  0.0   0.0  0.0  0.000000  0.0  0.0  0.0  0.000000  ...    0.0   \n",
       " 746  0.0  0.0  0.0   0.0  0.0  0.000000  0.0  0.0  0.0  0.000000  ...    0.0   \n",
       " 747  0.0  0.0  0.0   0.0  0.0  0.225266  0.0  0.0  0.0  0.000000  ...    0.0   \n",
       " 748  0.0  0.0  0.0   0.0  0.0  0.000000  0.0  0.0  0.0  0.000000  ...    0.0   \n",
       " 749  0.0  0.0  0.0   0.0  0.0  0.000000  0.0  0.0  0.0  0.000000  ...    0.0   \n",
       " \n",
       "      younger  youngster      your  yours  youth  youthful  youtube  yrs  \\\n",
       " 0        0.0        0.0  0.000000    0.0    0.0       0.0      0.0  0.0   \n",
       " 1        0.0        0.0  0.000000    0.0    0.0       0.0      0.0  0.0   \n",
       " 2        0.0        0.0  0.000000    0.0    0.0       0.0      0.0  0.0   \n",
       " 3        0.0        0.0  0.196577    0.0    0.0       0.0      0.0  0.0   \n",
       " 4        0.0        0.0  0.000000    0.0    0.0       0.0      0.0  0.0   \n",
       " ..       ...        ...       ...    ...    ...       ...      ...  ...   \n",
       " 745      0.0        0.0  0.000000    0.0    0.0       0.0      0.0  0.0   \n",
       " 746      0.0        0.0  0.000000    0.0    0.0       0.0      0.0  0.0   \n",
       " 747      0.0        0.0  0.000000    0.0    0.0       0.0      0.0  0.0   \n",
       " 748      0.0        0.0  0.000000    0.0    0.0       0.0      0.0  0.0   \n",
       " 749      0.0        0.0  0.000000    0.0    0.0       0.0      0.0  0.0   \n",
       " \n",
       "           yup  \n",
       " 0    0.000000  \n",
       " 1    0.000000  \n",
       " 2    0.000000  \n",
       " 3    0.000000  \n",
       " 4    0.000000  \n",
       " ..        ...  \n",
       " 745  0.355567  \n",
       " 746  0.000000  \n",
       " 747  0.000000  \n",
       " 748  0.000000  \n",
       " 749  0.000000  \n",
       " \n",
       " [750 rows x 2295 columns]}"
      ]
     },
     "execution_count": 194,
     "metadata": {},
     "output_type": "execute_result"
    }
   ],
   "source": [
    "tfidfs"
   ]
  },
  {
   "cell_type": "code",
   "execution_count": 195,
   "metadata": {},
   "outputs": [
    {
     "data": {
      "image/png": "[encoded data removed]",
      "text/plain": [
       "<Figure size 1000x600 with 1 Axes>"
      ]
     },
     "metadata": {},
     "output_type": "display_data"
    }
   ],
   "source": [
    "category_number = 0 # 0 or 1\n",
    "\n",
    "# Visualize the total TF-IDF distribution\n",
    "plt.figure(figsize=(10, 6))\n",
    "\n",
    "# data: the TF-IDF of each term that appears in the category\n",
    "plt.hist(\n",
    "    tfidfs[categories[category_number]].sum(axis=0).to_numpy(), \n",
    "    bins=400,\n",
    "    edgecolor='black'\n",
    ")\n",
    "\n",
    "plt.title(f'TF-IDF Distribution for Category {categories[category_number]}')\n",
    "plt.xlabel('Total TF-IDF')\n",
    "plt.ylabel('Number of Terms')\n",
    "plt.xlim(0, 40) # only show frequencies [0, 50)\n",
    "\n",
    "plt.show()"
   ]
  },
  {
   "cell_type": "markdown",
   "metadata": {},
   "source": [
    "### 5.2.2 Noise Reduction\n",
    "Here, I remove top **1%** and bottom **50%** words based on their total TF-IDF."
   ]
  },
  {
   "cell_type": "code",
   "execution_count": 196,
   "metadata": {},
   "outputs": [
    {
     "name": "stdout",
     "output_type": "stream",
     "text": [
      "\n",
      "For category not nostalgia we filtered the following words:\n",
      "Bottom 50.0% words: \n",
      "excited          0.108236\n",
      "following        0.142237\n",
      "wondering        0.142237\n",
      "67               0.142237\n",
      "versa            0.142237\n",
      "                   ...   \n",
      "granddaughter    0.385211\n",
      "chorus           0.385804\n",
      "onions           0.386591\n",
      "darn             0.386591\n",
      "coincidence      0.386765\n",
      "Length: 1301, dtype: float64\n",
      "Top 1.0% words: \n",
      "beautiful    13.897911\n",
      "me           14.170802\n",
      "with         14.181376\n",
      "voice        14.459626\n",
      "he           14.877358\n",
      "great        15.128684\n",
      "have         15.676795\n",
      "one          15.772953\n",
      "like         16.402893\n",
      "for          17.092886\n",
      "so           17.350991\n",
      "was          18.891399\n",
      "music        21.331341\n",
      "that         22.127652\n",
      "love         22.258244\n",
      "my           23.736244\n",
      "in           25.151202\n",
      "you          26.775628\n",
      "is           27.534405\n",
      "it           27.850826\n",
      "of           32.450683\n",
      "song         32.757274\n",
      "to           33.544608\n",
      "and          35.400242\n",
      "this         39.569464\n",
      "the          48.813835\n",
      "dtype: float64\n",
      "\n",
      "For category nostalgia we filtered the following words:\n",
      "Bottom 50.0% words: \n",
      "identical     0.118922\n",
      "touch         0.118922\n",
      "flying        0.133996\n",
      "angels        0.133996\n",
      "fighter       0.133996\n",
      "                ...   \n",
      "understood    0.370272\n",
      "fine          0.370360\n",
      "gorgeous      0.370380\n",
      "london        0.371489\n",
      "changes       0.372313\n",
      "Length: 1147, dtype: float64\n",
      "Top 1.0% words: \n",
      "childhood    17.334840\n",
      "remember     17.336675\n",
      "you          18.226587\n",
      "time         18.559399\n",
      "years        18.722043\n",
      "brings       19.972786\n",
      "love         20.460042\n",
      "so           22.493197\n",
      "when         24.851116\n",
      "in           30.544765\n",
      "it           31.470691\n",
      "memories     33.011671\n",
      "me           33.794209\n",
      "back         33.887954\n",
      "of           34.854324\n",
      "was          36.740369\n",
      "and          36.963256\n",
      "song         41.032560\n",
      "to           43.140299\n",
      "this         43.187694\n",
      "my           45.726732\n",
      "the          48.193895\n",
      "dtype: float64\n"
     ]
    }
   ],
   "source": [
    " # Filter the top 1% and bottom 5% words based on their amount across all documents\n",
    "def noise_reduction_tfidf(TFIDF, top_percent = 0.01, bottom_percent = 0.5):\n",
    "    # Calculate the amount of each word across all documents\n",
    "    TFIDF_amount = TFIDF.sum(axis=0)\n",
    "    \n",
    "    # Sort the words by their amount\n",
    "    sorted_words = TFIDF_amount.sort_values()\n",
    "    \n",
    "    # Calculate the number of words to remove\n",
    "    total_words = len(sorted_words)\n",
    "    top_n = int(top_percent * total_words)\n",
    "    bottom_n = int(bottom_percent * total_words)\n",
    "    \n",
    "    # Get the words to remove from the top 1% and bottom 50%\n",
    "    words_to_remove = pd.concat([sorted_words.head(bottom_n), sorted_words.tail(top_n)]).index\n",
    "    print(f'Bottom {bottom_percent * 100}% words: \\n{sorted_words.head(bottom_n)}') #H ere we print which words correspond to the bottom percentage we filter\n",
    "    print(f'Top {top_percent * 100}% words: \\n{sorted_words.tail(top_n)}') # Here we print which words correspond to the top percentage we filter\n",
    "    # Return the DataFrame without the filtered words\n",
    "    return TFIDF.drop(columns=words_to_remove)\n",
    "\n",
    "# filter the noise for each category\n",
    "filtered_tfidfs = {}\n",
    "\n",
    "for category in categories:\n",
    "    print(f'\\nFor category {category} we filtered the following words:')\n",
    "    filtered_tfidfs[category] = noise_reduction_tfidf(tfidfs[category])"
   ]
  },
  {
   "cell_type": "markdown",
   "metadata": {},
   "source": [
    "### 5.2.3 Frequent Pattern Mining\n",
    "1. Build up Database (set transaction threshold \"> 0\". If we set it \">= 1\" then some comments will be filtered)\n",
    "2. Run FPGrowth algotihm (here, I set minSup to be 4, due to the different cut point.)\n",
    "3. Find Unique Pattern"
   ]
  },
  {
   "cell_type": "code",
   "execution_count": 197,
   "metadata": {},
   "outputs": [
    {
     "name": "stdout",
     "output_type": "stream",
     "text": [
      "Statistics for td_clean_tfidf_not_nostalgia.csv:\n",
      "Database size (total no of transactions) : 749\n",
      "Number of items : 1275\n",
      "Minimum Transaction Size : 2\n",
      "Average Transaction Size : 12.43124165554072\n",
      "Maximum Transaction Size : 50\n",
      "Standard Deviation Transaction Size : 6.600330629059249\n",
      "Variance in Transaction Sizes : 43.622605541791906\n",
      "Sparsity : 0.990250006544674\n",
      "\n",
      "Statistics for td_clean_tfidf_nostalgia.csv:\n",
      "Database size (total no of transactions) : 750\n",
      "Number of items : 1126\n",
      "Minimum Transaction Size : 1\n",
      "Average Transaction Size : 13.289333333333333\n",
      "Maximum Transaction Size : 47\n",
      "Standard Deviation Transaction Size : 8.803651868527187\n",
      "Variance in Transaction Sizes : 77.6077632398754\n",
      "Sparsity : 0.9881977501480166\n",
      "\n"
     ]
    },
    {
     "data": {
      "image/png": "[encoded data removed]",
      "text/plain": [
       "<Figure size 640x480 with 1 Axes>"
      ]
     },
     "metadata": {},
     "output_type": "display_data"
    },
    {
     "data": {
      "image/png": "[encoded data removed]",
      "text/plain": [
       "<Figure size 640x480 with 1 Axes>"
      ]
     },
     "metadata": {},
     "output_type": "display_data"
    },
    {
     "data": {
      "image/png": "[encoded data removed]",
      "text/plain": [
       "<Figure size 640x480 with 1 Axes>"
      ]
     },
     "metadata": {},
     "output_type": "display_data"
    },
    {
     "data": {
      "image/png": "[encoded data removed]",
      "text/plain": [
       "<Figure size 640x480 with 1 Axes>"
      ]
     },
     "metadata": {},
     "output_type": "display_data"
    }
   ],
   "source": [
    "# Loop through the dictionary of term-document DataFrames\n",
    "for category in filtered_tfidfs:\n",
    "    # Replace space with underscore\n",
    "    category_safe = category.replace(' ', '_')\n",
    "    \n",
    "    # Create the DenseFormatDF object and convert to a transactional database\n",
    "    obj = db.DenseFormatDF(filtered_tfidfs[category])                 \n",
    "    \n",
    "    # Save the transactional database to a CSV file\n",
    "    obj.convert2TransactionalDatabase(f'td_clean_tfidf_{category_safe}.csv', '>', 0)\n",
    "\n",
    "    # Load the transactional database and print the statistics\n",
    "    obj = tds.TransactionalDatabase(f'td_clean_tfidf_{category_safe}.csv')\n",
    "    print(f\"Statistics for td_clean_tfidf_{category_safe}.csv:\")\n",
    "    obj.run()\n",
    "    obj.printStats()\n",
    "    print()\n",
    "    obj.plotGraphs()"
   ]
  },
  {
   "cell_type": "code",
   "execution_count": 198,
   "metadata": {},
   "outputs": [
    {
     "name": "stdout",
     "output_type": "stream",
     "text": [
      "Frequent patterns were generated successfully using frequentPatternGrowth algorithm\n",
      "Total No of patterns: 133\n",
      "Runtime: 0.015373706817626953\n",
      "\n",
      "Frequent patterns were generated successfully using frequentPatternGrowth algorithm\n",
      "Total No of patterns: 202\n",
      "Runtime: 0.020886898040771484\n"
     ]
    }
   ],
   "source": [
    "# Find the freqient patterns for each category\n",
    "minSup = 18\n",
    "\n",
    "obj = alg.FPGrowth(iFile=f'td_clean_tfidf_not_nostalgia.csv', minSup = minSup)\n",
    "obj.mine() \n",
    "obj.save('freq_patterns_tfidf_not_nostalgia.txt') # save the patterns\n",
    "fp_df_not_nostalgia_tfidf = obj.getPatternsAsDataFrame()\n",
    "print('Total No of patterns: ' + str(len(fp_df_not_nostalgia_tfidf ))) # print the total number of patterns\n",
    "print('Runtime: ' + str(obj.getRuntime())) # measure the runtime\n",
    "print()\n",
    "\n",
    "obj = alg.FPGrowth(iFile=f'td_clean_tfidf_nostalgia.csv', minSup = minSup)\n",
    "obj.mine() \n",
    "obj.save('freq_patterns_tfidf_nostalgia.txt') # save the patterns\n",
    "fp_df_nostalgia_tfidf = obj.getPatternsAsDataFrame()\n",
    "print('Total No of patterns: ' + str(len(fp_df_nostalgia_tfidf ))) # print the total number of patterns\n",
    "print('Runtime: ' + str(obj.getRuntime())) # measure the runtime"
   ]
  },
  {
   "cell_type": "code",
   "execution_count": 199,
   "metadata": {},
   "outputs": [
    {
     "name": "stdout",
     "output_type": "stream",
     "text": [
      "       Patterns  Support\n",
      "161         for      125\n",
      "158        that      113\n",
      "150        with      107\n",
      "146          is       97\n",
      "143       great       93\n",
      "..          ...      ...\n",
      "111   just with       18\n",
      "102     he with       18\n",
      "139  music with       18\n",
      "144   great for       18\n",
      "151   with that       18\n",
      "\n",
      "[163 rows x 2 columns]\n",
      "Number of patterns discarded: 172\n"
     ]
    }
   ],
   "source": [
    "# We group together all of the dataframes related to our found patterns\n",
    "fp_dfs_tfidf = [fp_df_not_nostalgia_tfidf, fp_df_nostalgia_tfidf]\n",
    "\n",
    "# Identify patterns that appear in more than one category\n",
    "# Count how many times each pattern appears across all dataframes\n",
    "pattern_counts = {}\n",
    "for df in fp_dfs_tfidf:\n",
    "    for pattern in df['Patterns']:\n",
    "        if pattern not in pattern_counts:\n",
    "            pattern_counts[pattern] = 1\n",
    "        else:\n",
    "            pattern_counts[pattern] += 1\n",
    "\n",
    "# Filter out patterns that appear in more than one dataframe\n",
    "unique_patterns = {pattern for pattern, count in pattern_counts.items() if count == 1} # datatype: set\n",
    "\n",
    "# Calculate the total number of patterns across all categories (including duplicates)\n",
    "total_patterns_count = sum(len(df) for df in fp_dfs_tfidf)\n",
    "# Calculate how many patterns were discarded\n",
    "discarded_patterns_count = total_patterns_count - len(unique_patterns)\n",
    "\n",
    "# For each category, filter the patterns to keep only the unique ones\n",
    "filtered_fp_dfs = []\n",
    "for df in fp_dfs_tfidf:\n",
    "    filtered_df = df[df['Patterns'].isin(unique_patterns)]\n",
    "    filtered_fp_dfs.append(filtered_df)\n",
    "\n",
    "# Merge the filtered dataframes into a final dataframe\n",
    "final_pattern_df_tfidf = pd.concat(filtered_fp_dfs, ignore_index=True)\n",
    "\n",
    "# Sort by support\n",
    "final_pattern_df_tfidf = final_pattern_df_tfidf.sort_values(by='Support', ascending=False)\n",
    "\n",
    "# Display the final result\n",
    "print(final_pattern_df_tfidf)\n",
    "# Print the number of discarded patterns\n",
    "print(f\"Number of patterns discarded: {discarded_patterns_count}\")"
   ]
  },
  {
   "cell_type": "code",
   "execution_count": 200,
   "metadata": {},
   "outputs": [
    {
     "data": {
      "text/html": [
       "<div>\n",
       "<style scoped>\n",
       "    .dataframe tbody tr th:only-of-type {\n",
       "        vertical-align: middle;\n",
       "    }\n",
       "\n",
       "    .dataframe tbody tr th {\n",
       "        vertical-align: top;\n",
       "    }\n",
       "\n",
       "    .dataframe thead th {\n",
       "        text-align: right;\n",
       "    }\n",
       "</style>\n",
       "<table border=\"1\" class=\"dataframe\">\n",
       "  <thead>\n",
       "    <tr style=\"text-align: right;\">\n",
       "      <th></th>\n",
       "      <th>00</th>\n",
       "      <th>000</th>\n",
       "      <th>045</th>\n",
       "      <th>07</th>\n",
       "      <th>10</th>\n",
       "      <th>100</th>\n",
       "      <th>10m</th>\n",
       "      <th>11</th>\n",
       "      <th>11th</th>\n",
       "      <th>12</th>\n",
       "      <th>...</th>\n",
       "      <th>record</th>\n",
       "      <th>have is</th>\n",
       "      <th>good days</th>\n",
       "      <th>as on</th>\n",
       "      <th>just for</th>\n",
       "      <th>just with</th>\n",
       "      <th>he with</th>\n",
       "      <th>music with</th>\n",
       "      <th>great for</th>\n",
       "      <th>with that</th>\n",
       "    </tr>\n",
       "  </thead>\n",
       "  <tbody>\n",
       "    <tr>\n",
       "      <th>0</th>\n",
       "      <td>0.0</td>\n",
       "      <td>0.0</td>\n",
       "      <td>0.0</td>\n",
       "      <td>0.0</td>\n",
       "      <td>0.0</td>\n",
       "      <td>0.0</td>\n",
       "      <td>0.0</td>\n",
       "      <td>0.0</td>\n",
       "      <td>0.0</td>\n",
       "      <td>0.0</td>\n",
       "      <td>...</td>\n",
       "      <td>0</td>\n",
       "      <td>0</td>\n",
       "      <td>0</td>\n",
       "      <td>0</td>\n",
       "      <td>0</td>\n",
       "      <td>0</td>\n",
       "      <td>0</td>\n",
       "      <td>0</td>\n",
       "      <td>1</td>\n",
       "      <td>1</td>\n",
       "    </tr>\n",
       "    <tr>\n",
       "      <th>1</th>\n",
       "      <td>0.0</td>\n",
       "      <td>0.0</td>\n",
       "      <td>0.0</td>\n",
       "      <td>0.0</td>\n",
       "      <td>0.0</td>\n",
       "      <td>0.0</td>\n",
       "      <td>0.0</td>\n",
       "      <td>0.0</td>\n",
       "      <td>0.0</td>\n",
       "      <td>0.0</td>\n",
       "      <td>...</td>\n",
       "      <td>0</td>\n",
       "      <td>0</td>\n",
       "      <td>0</td>\n",
       "      <td>0</td>\n",
       "      <td>0</td>\n",
       "      <td>0</td>\n",
       "      <td>0</td>\n",
       "      <td>0</td>\n",
       "      <td>0</td>\n",
       "      <td>0</td>\n",
       "    </tr>\n",
       "    <tr>\n",
       "      <th>2</th>\n",
       "      <td>0.0</td>\n",
       "      <td>0.0</td>\n",
       "      <td>0.0</td>\n",
       "      <td>0.0</td>\n",
       "      <td>0.0</td>\n",
       "      <td>0.0</td>\n",
       "      <td>0.0</td>\n",
       "      <td>0.0</td>\n",
       "      <td>0.0</td>\n",
       "      <td>0.0</td>\n",
       "      <td>...</td>\n",
       "      <td>0</td>\n",
       "      <td>0</td>\n",
       "      <td>0</td>\n",
       "      <td>0</td>\n",
       "      <td>0</td>\n",
       "      <td>1</td>\n",
       "      <td>0</td>\n",
       "      <td>0</td>\n",
       "      <td>0</td>\n",
       "      <td>0</td>\n",
       "    </tr>\n",
       "    <tr>\n",
       "      <th>3</th>\n",
       "      <td>0.0</td>\n",
       "      <td>0.0</td>\n",
       "      <td>0.0</td>\n",
       "      <td>0.0</td>\n",
       "      <td>0.0</td>\n",
       "      <td>0.0</td>\n",
       "      <td>0.0</td>\n",
       "      <td>0.0</td>\n",
       "      <td>0.0</td>\n",
       "      <td>0.0</td>\n",
       "      <td>...</td>\n",
       "      <td>0</td>\n",
       "      <td>1</td>\n",
       "      <td>0</td>\n",
       "      <td>0</td>\n",
       "      <td>0</td>\n",
       "      <td>0</td>\n",
       "      <td>0</td>\n",
       "      <td>0</td>\n",
       "      <td>0</td>\n",
       "      <td>0</td>\n",
       "    </tr>\n",
       "    <tr>\n",
       "      <th>4</th>\n",
       "      <td>0.0</td>\n",
       "      <td>0.0</td>\n",
       "      <td>0.0</td>\n",
       "      <td>0.0</td>\n",
       "      <td>0.0</td>\n",
       "      <td>0.0</td>\n",
       "      <td>0.0</td>\n",
       "      <td>0.0</td>\n",
       "      <td>0.0</td>\n",
       "      <td>0.0</td>\n",
       "      <td>...</td>\n",
       "      <td>0</td>\n",
       "      <td>0</td>\n",
       "      <td>0</td>\n",
       "      <td>0</td>\n",
       "      <td>0</td>\n",
       "      <td>0</td>\n",
       "      <td>0</td>\n",
       "      <td>0</td>\n",
       "      <td>0</td>\n",
       "      <td>0</td>\n",
       "    </tr>\n",
       "    <tr>\n",
       "      <th>...</th>\n",
       "      <td>...</td>\n",
       "      <td>...</td>\n",
       "      <td>...</td>\n",
       "      <td>...</td>\n",
       "      <td>...</td>\n",
       "      <td>...</td>\n",
       "      <td>...</td>\n",
       "      <td>...</td>\n",
       "      <td>...</td>\n",
       "      <td>...</td>\n",
       "      <td>...</td>\n",
       "      <td>...</td>\n",
       "      <td>...</td>\n",
       "      <td>...</td>\n",
       "      <td>...</td>\n",
       "      <td>...</td>\n",
       "      <td>...</td>\n",
       "      <td>...</td>\n",
       "      <td>...</td>\n",
       "      <td>...</td>\n",
       "      <td>...</td>\n",
       "    </tr>\n",
       "    <tr>\n",
       "      <th>1494</th>\n",
       "      <td>0.0</td>\n",
       "      <td>0.0</td>\n",
       "      <td>0.0</td>\n",
       "      <td>0.0</td>\n",
       "      <td>0.0</td>\n",
       "      <td>0.0</td>\n",
       "      <td>0.0</td>\n",
       "      <td>0.0</td>\n",
       "      <td>0.0</td>\n",
       "      <td>0.0</td>\n",
       "      <td>...</td>\n",
       "      <td>0</td>\n",
       "      <td>0</td>\n",
       "      <td>0</td>\n",
       "      <td>1</td>\n",
       "      <td>0</td>\n",
       "      <td>0</td>\n",
       "      <td>0</td>\n",
       "      <td>0</td>\n",
       "      <td>0</td>\n",
       "      <td>0</td>\n",
       "    </tr>\n",
       "    <tr>\n",
       "      <th>1495</th>\n",
       "      <td>0.0</td>\n",
       "      <td>0.0</td>\n",
       "      <td>0.0</td>\n",
       "      <td>0.0</td>\n",
       "      <td>0.0</td>\n",
       "      <td>0.0</td>\n",
       "      <td>0.0</td>\n",
       "      <td>0.0</td>\n",
       "      <td>0.0</td>\n",
       "      <td>0.0</td>\n",
       "      <td>...</td>\n",
       "      <td>0</td>\n",
       "      <td>0</td>\n",
       "      <td>0</td>\n",
       "      <td>0</td>\n",
       "      <td>0</td>\n",
       "      <td>0</td>\n",
       "      <td>0</td>\n",
       "      <td>0</td>\n",
       "      <td>0</td>\n",
       "      <td>0</td>\n",
       "    </tr>\n",
       "    <tr>\n",
       "      <th>1496</th>\n",
       "      <td>0.0</td>\n",
       "      <td>0.0</td>\n",
       "      <td>0.0</td>\n",
       "      <td>0.0</td>\n",
       "      <td>0.0</td>\n",
       "      <td>0.0</td>\n",
       "      <td>0.0</td>\n",
       "      <td>0.0</td>\n",
       "      <td>0.0</td>\n",
       "      <td>0.0</td>\n",
       "      <td>...</td>\n",
       "      <td>0</td>\n",
       "      <td>0</td>\n",
       "      <td>0</td>\n",
       "      <td>0</td>\n",
       "      <td>0</td>\n",
       "      <td>0</td>\n",
       "      <td>0</td>\n",
       "      <td>0</td>\n",
       "      <td>0</td>\n",
       "      <td>0</td>\n",
       "    </tr>\n",
       "    <tr>\n",
       "      <th>1497</th>\n",
       "      <td>0.0</td>\n",
       "      <td>0.0</td>\n",
       "      <td>0.0</td>\n",
       "      <td>0.0</td>\n",
       "      <td>0.0</td>\n",
       "      <td>0.0</td>\n",
       "      <td>0.0</td>\n",
       "      <td>0.0</td>\n",
       "      <td>0.0</td>\n",
       "      <td>0.0</td>\n",
       "      <td>...</td>\n",
       "      <td>0</td>\n",
       "      <td>0</td>\n",
       "      <td>0</td>\n",
       "      <td>0</td>\n",
       "      <td>0</td>\n",
       "      <td>0</td>\n",
       "      <td>0</td>\n",
       "      <td>0</td>\n",
       "      <td>0</td>\n",
       "      <td>0</td>\n",
       "    </tr>\n",
       "    <tr>\n",
       "      <th>1498</th>\n",
       "      <td>0.0</td>\n",
       "      <td>0.0</td>\n",
       "      <td>0.0</td>\n",
       "      <td>0.0</td>\n",
       "      <td>0.0</td>\n",
       "      <td>0.0</td>\n",
       "      <td>0.0</td>\n",
       "      <td>0.0</td>\n",
       "      <td>0.0</td>\n",
       "      <td>0.0</td>\n",
       "      <td>...</td>\n",
       "      <td>0</td>\n",
       "      <td>0</td>\n",
       "      <td>0</td>\n",
       "      <td>0</td>\n",
       "      <td>0</td>\n",
       "      <td>0</td>\n",
       "      <td>0</td>\n",
       "      <td>0</td>\n",
       "      <td>0</td>\n",
       "      <td>0</td>\n",
       "    </tr>\n",
       "  </tbody>\n",
       "</table>\n",
       "<p>1499 rows × 3893 columns</p>\n",
       "</div>"
      ],
      "text/plain": [
       "       00  000  045   07   10  100  10m   11  11th   12  ...  record  have is  \\\n",
       "0     0.0  0.0  0.0  0.0  0.0  0.0  0.0  0.0   0.0  0.0  ...       0        0   \n",
       "1     0.0  0.0  0.0  0.0  0.0  0.0  0.0  0.0   0.0  0.0  ...       0        0   \n",
       "2     0.0  0.0  0.0  0.0  0.0  0.0  0.0  0.0   0.0  0.0  ...       0        0   \n",
       "3     0.0  0.0  0.0  0.0  0.0  0.0  0.0  0.0   0.0  0.0  ...       0        1   \n",
       "4     0.0  0.0  0.0  0.0  0.0  0.0  0.0  0.0   0.0  0.0  ...       0        0   \n",
       "...   ...  ...  ...  ...  ...  ...  ...  ...   ...  ...  ...     ...      ...   \n",
       "1494  0.0  0.0  0.0  0.0  0.0  0.0  0.0  0.0   0.0  0.0  ...       0        0   \n",
       "1495  0.0  0.0  0.0  0.0  0.0  0.0  0.0  0.0   0.0  0.0  ...       0        0   \n",
       "1496  0.0  0.0  0.0  0.0  0.0  0.0  0.0  0.0   0.0  0.0  ...       0        0   \n",
       "1497  0.0  0.0  0.0  0.0  0.0  0.0  0.0  0.0   0.0  0.0  ...       0        0   \n",
       "1498  0.0  0.0  0.0  0.0  0.0  0.0  0.0  0.0   0.0  0.0  ...       0        0   \n",
       "\n",
       "      good days  as on  just for  just with  he with  music with  great for  \\\n",
       "0             0      0         0          0        0           0          1   \n",
       "1             0      0         0          0        0           0          0   \n",
       "2             0      0         0          1        0           0          0   \n",
       "3             0      0         0          0        0           0          0   \n",
       "4             0      0         0          0        0           0          0   \n",
       "...         ...    ...       ...        ...      ...         ...        ...   \n",
       "1494          0      1         0          0        0           0          0   \n",
       "1495          0      0         0          0        0           0          0   \n",
       "1496          0      0         0          0        0           0          0   \n",
       "1497          0      0         0          0        0           0          0   \n",
       "1498          0      0         0          0        0           0          0   \n",
       "\n",
       "      with that  \n",
       "0             1  \n",
       "1             0  \n",
       "2             0  \n",
       "3             0  \n",
       "4             0  \n",
       "...         ...  \n",
       "1494          0  \n",
       "1495          0  \n",
       "1496          0  \n",
       "1497          0  \n",
       "1498          0  \n",
       "\n",
       "[1499 rows x 3893 columns]"
      ]
     },
     "execution_count": 200,
     "metadata": {},
     "output_type": "execute_result"
    }
   ],
   "source": [
    "# Convert 'text' column into DTM\n",
    "tdidf_vectorizer = TfidfVectorizer()\n",
    "dataset_tfidf = tfidf_vectorizer.fit_transform(dataset['comment'])\n",
    "terms = tfidf_vectorizer.get_feature_names_out()\n",
    "\n",
    "# Tokenize the sentences into sets of unique words\n",
    "dataset['tokenized_text'] = dataset['comment'].str.split().apply(set)\n",
    "\n",
    "# Initialize the pattern matrix\n",
    "pattern_matrix = pd.DataFrame(0, index=dataset.index, columns=final_pattern_df_tfidf['Patterns'])\n",
    "\n",
    "# Iterate over each pattern and check if all words in the pattern are present in the tokenized sentence\n",
    "for pattern in final_pattern_df_tfidf['Patterns']:\n",
    "    pattern_words = set(pattern.split())  # Tokenize pattern into words\n",
    "    pattern_matrix[pattern] = dataset['tokenized_text'].apply(lambda x: 1 if pattern_words.issubset(x) else 0)\n",
    "\n",
    "# Convert the DTM to a DataFrame for easy merging\n",
    "tfidf_df = pd.DataFrame(dataset_tfidf.toarray(), columns=terms, index=dataset.index)\n",
    "\n",
    "# Concatenate the original TDM and the pattern matrix to augment the features\n",
    "augmented_df_tfidf = pd.concat([tfidf_df, pattern_matrix], axis=1)\n",
    "\n",
    "augmented_df_tfidf"
   ]
  },
  {
   "cell_type": "markdown",
   "metadata": {},
   "source": [
    "### 5.2.4 Visualization with Dimensionality Reduction"
   ]
  },
  {
   "cell_type": "code",
   "execution_count": 201,
   "metadata": {},
   "outputs": [
    {
     "data": {
      "image/png": "[encoded data removed]",
      "text/plain": [
       "<Figure size 1000x1000 with 1 Axes>"
      ]
     },
     "metadata": {},
     "output_type": "display_data"
    }
   ],
   "source": [
    "# calculate the t-SNE for the DTM\n",
    "tfidf_tsne = TSNE(n_components=2).fit_transform(augmented_df_tfidf.values)\n",
    "# get the cate\n",
    "categories = dataset['sentiment'].unique() \n",
    "plt.figure(figsize=(10, 10))\n",
    "\n",
    "for category in categories:\n",
    "    plt.scatter(\n",
    "        tfidf_tsne[dataset['sentiment'] == category].T[0],\n",
    "        tfidf_tsne[dataset['sentiment'] == category].T[1],\n",
    "        marker='o',\n",
    "        label=category,\n",
    "    )\n",
    "\n",
    "plt.xlabel('X')\n",
    "plt.ylabel('Y')\n",
    "plt.legend(loc='upper right')\n",
    "\n",
    "plt.show()"
   ]
  },
  {
   "cell_type": "markdown",
   "metadata": {},
   "source": [
    "## 5.3 Data Classification"
   ]
  },
  {
   "cell_type": "code",
   "execution_count": 202,
   "metadata": {},
   "outputs": [],
   "source": [
    "# Create a mapping from numerical labels to category names\n",
    "category_mapping = dict(dataset[['label', 'sentiment']].drop_duplicates().values)\n",
    "\n",
    "# Convert the numerical category labels to text labels\n",
    "target_names = [category_mapping[label] for label in sorted(category_mapping.keys())]\n",
    "\n",
    "# Split the data into training and testing sets (70% train, 30% test)\n",
    "data_train, data_test, label_train, label_test = train_test_split(augmented_df_tfidf, dataset['label'], test_size=0.3, random_state=42)"
   ]
  },
  {
   "cell_type": "code",
   "execution_count": 203,
   "metadata": {},
   "outputs": [
    {
     "name": "stdout",
     "output_type": "stream",
     "text": [
      "Accuracy: 0.8733333333333333\n",
      "\n",
      "Classification Report:\n",
      "                precision    recall  f1-score   support\n",
      "\n",
      "    nostalgia     0.8492    0.9185    0.8825       233\n",
      "not nostalgia     0.9040    0.8249    0.8627       217\n",
      "\n",
      "     accuracy                         0.8733       450\n",
      "    macro avg     0.8766    0.8717    0.8726       450\n",
      " weighted avg     0.8756    0.8733    0.8729       450\n",
      "\n"
     ]
    }
   ],
   "source": [
    "# Train the Multinomial Naive Bayes classifier\n",
    "nb_classifier = MultinomialNB()\n",
    "nb_classifier.fit(data_train, label_train)\n",
    "\n",
    "# Make predictions on the test set\n",
    "label_pred = nb_classifier.predict(data_test)\n",
    "\n",
    "# Evaluate the classifier\n",
    "print(\"Accuracy:\", accuracy_score(label_test, label_pred))\n",
    "print(\"\\nClassification Report:\\n\", classification_report(label_test, label_pred, target_names=target_names, digits=4))"
   ]
  },
  {
   "cell_type": "code",
   "execution_count": 204,
   "metadata": {},
   "outputs": [
    {
     "name": "stdout",
     "output_type": "stream",
     "text": [
      "Accuracy: 0.9088888888888889\n",
      "\n",
      "Classification Report:\n",
      "                precision    recall  f1-score   support\n",
      "\n",
      "    nostalgia     0.8871    0.9442    0.9148       233\n",
      "not nostalgia     0.9356    0.8710    0.9021       217\n",
      "\n",
      "     accuracy                         0.9089       450\n",
      "    macro avg     0.9114    0.9076    0.9085       450\n",
      " weighted avg     0.9105    0.9089    0.9087       450\n",
      "\n"
     ]
    }
   ],
   "source": [
    "# Train the Bernoulli Naive Bayes classifier\n",
    "nb_classifier = BernoulliNB()\n",
    "nb_classifier.fit(data_train, label_train)\n",
    "\n",
    "# Make predictions on the test set\n",
    "label_pred = nb_classifier.predict(data_test)\n",
    "\n",
    "# Evaluate the classifier\n",
    "print(\"Accuracy:\", accuracy_score(label_test, label_pred))\n",
    "print(\"\\nClassification Report:\\n\", classification_report(label_test, label_pred, target_names=target_names, digits=4))"
   ]
  },
  {
   "cell_type": "markdown",
   "metadata": {},
   "source": [
    "# 6. Report for the Fourth Instruction\n",
    "1. Sampling is not necessary for the dataset.\n",
    "2. Document-term matrix consumes significant resources. If we can make the matrix more dense (let all 0s be more meaningful) it would be better.\n",
    "   (Especially, we often declare variable that is the copy of DTM, so it's more consumes the resources.)\n",
    "   (Also, due to the sparsity, most graph we plotted are quite hard to analysis.) \n",
    "3. When we are filtering the outlier, we need to keep trial-and-error to find a best cut for i, j such that (top i%, bottom j%) data need to be eliminated.\n",
    "   But in most of the case, the frequent terms are the same, so we might just utilize some library to filter out the stopwords.\n",
    "   And we can just dispose the term that total occuring frequency in the corpus less than k (maybe k = 1)."
   ]
  }
 ],
 "metadata": {
  "kernelspec": {
   "display_name": "Python 3",
   "language": "python",
   "name": "python3"
  },
  "language_info": {
   "codemirror_mode": {
    "name": "ipython",
    "version": 3
   },
   "file_extension": ".py",
   "mimetype": "text/x-python",
   "name": "python",
   "nbconvert_exporter": "python",
   "pygments_lexer": "ipython3",
   "version": "3.9.6"
  }
 },
 "nbformat": 4,
 "nbformat_minor": 2
}
